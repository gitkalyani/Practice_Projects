{
 "cells": [
  {
   "cell_type": "markdown",
   "id": "4ca37929",
   "metadata": {},
   "source": [
    "### Importing necessary libraries"
   ]
  },
  {
   "cell_type": "code",
   "execution_count": 3,
   "id": "5f16174a",
   "metadata": {},
   "outputs": [],
   "source": [
    "import pandas as pd\n",
    "import numpy as np\n",
    "import matplotlib.pyplot as plt\n",
    "import seaborn as sns\n",
    "import warnings\n",
    "warnings.filterwarnings('ignore')"
   ]
  },
  {
   "cell_type": "markdown",
   "id": "f953ec39",
   "metadata": {},
   "source": [
    "### READING DATASET"
   ]
  },
  {
   "cell_type": "code",
   "execution_count": 176,
   "id": "fd0bb117",
   "metadata": {},
   "outputs": [
    {
     "data": {
      "text/html": [
       "<div>\n",
       "<style scoped>\n",
       "    .dataframe tbody tr th:only-of-type {\n",
       "        vertical-align: middle;\n",
       "    }\n",
       "\n",
       "    .dataframe tbody tr th {\n",
       "        vertical-align: top;\n",
       "    }\n",
       "\n",
       "    .dataframe thead th {\n",
       "        text-align: right;\n",
       "    }\n",
       "</style>\n",
       "<table border=\"1\" class=\"dataframe\">\n",
       "  <thead>\n",
       "    <tr style=\"text-align: right;\">\n",
       "      <th></th>\n",
       "      <th>Unnamed: 0</th>\n",
       "      <th>Date</th>\n",
       "      <th>AveragePrice</th>\n",
       "      <th>Total Volume</th>\n",
       "      <th>4046</th>\n",
       "      <th>4225</th>\n",
       "      <th>4770</th>\n",
       "      <th>Total Bags</th>\n",
       "      <th>Small Bags</th>\n",
       "      <th>Large Bags</th>\n",
       "      <th>XLarge Bags</th>\n",
       "      <th>type</th>\n",
       "      <th>year</th>\n",
       "      <th>region</th>\n",
       "    </tr>\n",
       "  </thead>\n",
       "  <tbody>\n",
       "    <tr>\n",
       "      <th>0</th>\n",
       "      <td>0.0</td>\n",
       "      <td>27-12-2015</td>\n",
       "      <td>1.33</td>\n",
       "      <td>64236.62</td>\n",
       "      <td>1036.74</td>\n",
       "      <td>54454.85</td>\n",
       "      <td>48.16</td>\n",
       "      <td>8696.87</td>\n",
       "      <td>8603.62</td>\n",
       "      <td>93.25</td>\n",
       "      <td>0.0</td>\n",
       "      <td>conventional</td>\n",
       "      <td>2015.0</td>\n",
       "      <td>Albany</td>\n",
       "    </tr>\n",
       "    <tr>\n",
       "      <th>1</th>\n",
       "      <td>1.0</td>\n",
       "      <td>20-12-2015</td>\n",
       "      <td>1.35</td>\n",
       "      <td>54876.98</td>\n",
       "      <td>674.28</td>\n",
       "      <td>44638.81</td>\n",
       "      <td>58.33</td>\n",
       "      <td>9505.56</td>\n",
       "      <td>9408.07</td>\n",
       "      <td>97.49</td>\n",
       "      <td>0.0</td>\n",
       "      <td>conventional</td>\n",
       "      <td>2015.0</td>\n",
       "      <td>Albany</td>\n",
       "    </tr>\n",
       "    <tr>\n",
       "      <th>2</th>\n",
       "      <td>2.0</td>\n",
       "      <td>13-12-2015</td>\n",
       "      <td>0.93</td>\n",
       "      <td>118220.22</td>\n",
       "      <td>794.70</td>\n",
       "      <td>109149.67</td>\n",
       "      <td>130.50</td>\n",
       "      <td>8145.35</td>\n",
       "      <td>8042.21</td>\n",
       "      <td>103.14</td>\n",
       "      <td>0.0</td>\n",
       "      <td>conventional</td>\n",
       "      <td>2015.0</td>\n",
       "      <td>Albany</td>\n",
       "    </tr>\n",
       "    <tr>\n",
       "      <th>3</th>\n",
       "      <td>3.0</td>\n",
       "      <td>06-12-2015</td>\n",
       "      <td>1.08</td>\n",
       "      <td>78992.15</td>\n",
       "      <td>1132.00</td>\n",
       "      <td>71976.41</td>\n",
       "      <td>72.58</td>\n",
       "      <td>5811.16</td>\n",
       "      <td>5677.40</td>\n",
       "      <td>133.76</td>\n",
       "      <td>0.0</td>\n",
       "      <td>conventional</td>\n",
       "      <td>2015.0</td>\n",
       "      <td>Albany</td>\n",
       "    </tr>\n",
       "    <tr>\n",
       "      <th>4</th>\n",
       "      <td>4.0</td>\n",
       "      <td>29-11-2015</td>\n",
       "      <td>1.28</td>\n",
       "      <td>51039.60</td>\n",
       "      <td>941.48</td>\n",
       "      <td>43838.39</td>\n",
       "      <td>75.78</td>\n",
       "      <td>6183.95</td>\n",
       "      <td>5986.26</td>\n",
       "      <td>197.69</td>\n",
       "      <td>0.0</td>\n",
       "      <td>conventional</td>\n",
       "      <td>2015.0</td>\n",
       "      <td>Albany</td>\n",
       "    </tr>\n",
       "    <tr>\n",
       "      <th>...</th>\n",
       "      <td>...</td>\n",
       "      <td>...</td>\n",
       "      <td>...</td>\n",
       "      <td>...</td>\n",
       "      <td>...</td>\n",
       "      <td>...</td>\n",
       "      <td>...</td>\n",
       "      <td>...</td>\n",
       "      <td>...</td>\n",
       "      <td>...</td>\n",
       "      <td>...</td>\n",
       "      <td>...</td>\n",
       "      <td>...</td>\n",
       "      <td>...</td>\n",
       "    </tr>\n",
       "    <tr>\n",
       "      <th>16463</th>\n",
       "      <td>NaN</td>\n",
       "      <td>NaN</td>\n",
       "      <td>NaN</td>\n",
       "      <td>NaN</td>\n",
       "      <td>NaN</td>\n",
       "      <td>NaN</td>\n",
       "      <td>NaN</td>\n",
       "      <td>NaN</td>\n",
       "      <td>NaN</td>\n",
       "      <td>NaN</td>\n",
       "      <td>NaN</td>\n",
       "      <td>NaN</td>\n",
       "      <td>NaN</td>\n",
       "      <td>NaN</td>\n",
       "    </tr>\n",
       "    <tr>\n",
       "      <th>16464</th>\n",
       "      <td>NaN</td>\n",
       "      <td>NaN</td>\n",
       "      <td>NaN</td>\n",
       "      <td>NaN</td>\n",
       "      <td>NaN</td>\n",
       "      <td>NaN</td>\n",
       "      <td>NaN</td>\n",
       "      <td>NaN</td>\n",
       "      <td>NaN</td>\n",
       "      <td>NaN</td>\n",
       "      <td>NaN</td>\n",
       "      <td>NaN</td>\n",
       "      <td>NaN</td>\n",
       "      <td>NaN</td>\n",
       "    </tr>\n",
       "    <tr>\n",
       "      <th>16465</th>\n",
       "      <td>NaN</td>\n",
       "      <td>NaN</td>\n",
       "      <td>NaN</td>\n",
       "      <td>NaN</td>\n",
       "      <td>NaN</td>\n",
       "      <td>NaN</td>\n",
       "      <td>NaN</td>\n",
       "      <td>NaN</td>\n",
       "      <td>NaN</td>\n",
       "      <td>NaN</td>\n",
       "      <td>NaN</td>\n",
       "      <td>NaN</td>\n",
       "      <td>NaN</td>\n",
       "      <td>NaN</td>\n",
       "    </tr>\n",
       "    <tr>\n",
       "      <th>16466</th>\n",
       "      <td>NaN</td>\n",
       "      <td>NaN</td>\n",
       "      <td>NaN</td>\n",
       "      <td>NaN</td>\n",
       "      <td>NaN</td>\n",
       "      <td>NaN</td>\n",
       "      <td>NaN</td>\n",
       "      <td>NaN</td>\n",
       "      <td>NaN</td>\n",
       "      <td>NaN</td>\n",
       "      <td>NaN</td>\n",
       "      <td>NaN</td>\n",
       "      <td>NaN</td>\n",
       "      <td>NaN</td>\n",
       "    </tr>\n",
       "    <tr>\n",
       "      <th>16467</th>\n",
       "      <td>NaN</td>\n",
       "      <td>NaN</td>\n",
       "      <td>NaN</td>\n",
       "      <td>NaN</td>\n",
       "      <td>NaN</td>\n",
       "      <td>NaN</td>\n",
       "      <td>NaN</td>\n",
       "      <td>NaN</td>\n",
       "      <td>NaN</td>\n",
       "      <td>NaN</td>\n",
       "      <td>NaN</td>\n",
       "      <td>NaN</td>\n",
       "      <td>NaN</td>\n",
       "      <td>NaN</td>\n",
       "    </tr>\n",
       "  </tbody>\n",
       "</table>\n",
       "<p>16468 rows × 14 columns</p>\n",
       "</div>"
      ],
      "text/plain": [
       "       Unnamed: 0        Date  AveragePrice  Total Volume     4046       4225  \\\n",
       "0             0.0  27-12-2015          1.33      64236.62  1036.74   54454.85   \n",
       "1             1.0  20-12-2015          1.35      54876.98   674.28   44638.81   \n",
       "2             2.0  13-12-2015          0.93     118220.22   794.70  109149.67   \n",
       "3             3.0  06-12-2015          1.08      78992.15  1132.00   71976.41   \n",
       "4             4.0  29-11-2015          1.28      51039.60   941.48   43838.39   \n",
       "...           ...         ...           ...           ...      ...        ...   \n",
       "16463         NaN         NaN           NaN           NaN      NaN        NaN   \n",
       "16464         NaN         NaN           NaN           NaN      NaN        NaN   \n",
       "16465         NaN         NaN           NaN           NaN      NaN        NaN   \n",
       "16466         NaN         NaN           NaN           NaN      NaN        NaN   \n",
       "16467         NaN         NaN           NaN           NaN      NaN        NaN   \n",
       "\n",
       "         4770  Total Bags  Small Bags  Large Bags  XLarge Bags          type  \\\n",
       "0       48.16     8696.87     8603.62       93.25          0.0  conventional   \n",
       "1       58.33     9505.56     9408.07       97.49          0.0  conventional   \n",
       "2      130.50     8145.35     8042.21      103.14          0.0  conventional   \n",
       "3       72.58     5811.16     5677.40      133.76          0.0  conventional   \n",
       "4       75.78     6183.95     5986.26      197.69          0.0  conventional   \n",
       "...       ...         ...         ...         ...          ...           ...   \n",
       "16463     NaN         NaN         NaN         NaN          NaN           NaN   \n",
       "16464     NaN         NaN         NaN         NaN          NaN           NaN   \n",
       "16465     NaN         NaN         NaN         NaN          NaN           NaN   \n",
       "16466     NaN         NaN         NaN         NaN          NaN           NaN   \n",
       "16467     NaN         NaN         NaN         NaN          NaN           NaN   \n",
       "\n",
       "         year  region  \n",
       "0      2015.0  Albany  \n",
       "1      2015.0  Albany  \n",
       "2      2015.0  Albany  \n",
       "3      2015.0  Albany  \n",
       "4      2015.0  Albany  \n",
       "...       ...     ...  \n",
       "16463     NaN     NaN  \n",
       "16464     NaN     NaN  \n",
       "16465     NaN     NaN  \n",
       "16466     NaN     NaN  \n",
       "16467     NaN     NaN  \n",
       "\n",
       "[16468 rows x 14 columns]"
      ]
     },
     "execution_count": 176,
     "metadata": {},
     "output_type": "execute_result"
    }
   ],
   "source": [
    "df = pd.read_csv('https://raw.githubusercontent.com/dsrscientist/Data-Science-ML-Capstone-Projects/master/avocado.csv')  \n",
    "df"
   ]
  },
  {
   "cell_type": "markdown",
   "id": "13c1e714",
   "metadata": {},
   "source": [
    "### Let's do some non-graphical analysis first to understand the dataset"
   ]
  },
  {
   "cell_type": "code",
   "execution_count": 177,
   "id": "42dc8c82",
   "metadata": {},
   "outputs": [
    {
     "data": {
      "text/plain": [
       "(16468, 14)"
      ]
     },
     "execution_count": 177,
     "metadata": {},
     "output_type": "execute_result"
    }
   ],
   "source": [
    "df.shape"
   ]
  },
  {
   "cell_type": "code",
   "execution_count": 178,
   "id": "38974c08",
   "metadata": {},
   "outputs": [
    {
     "data": {
      "text/html": [
       "<div>\n",
       "<style scoped>\n",
       "    .dataframe tbody tr th:only-of-type {\n",
       "        vertical-align: middle;\n",
       "    }\n",
       "\n",
       "    .dataframe tbody tr th {\n",
       "        vertical-align: top;\n",
       "    }\n",
       "\n",
       "    .dataframe thead th {\n",
       "        text-align: right;\n",
       "    }\n",
       "</style>\n",
       "<table border=\"1\" class=\"dataframe\">\n",
       "  <thead>\n",
       "    <tr style=\"text-align: right;\">\n",
       "      <th></th>\n",
       "      <th>Unnamed: 0</th>\n",
       "      <th>AveragePrice</th>\n",
       "      <th>Total Volume</th>\n",
       "      <th>4046</th>\n",
       "      <th>4225</th>\n",
       "      <th>4770</th>\n",
       "      <th>Total Bags</th>\n",
       "      <th>Small Bags</th>\n",
       "      <th>Large Bags</th>\n",
       "      <th>XLarge Bags</th>\n",
       "      <th>year</th>\n",
       "    </tr>\n",
       "  </thead>\n",
       "  <tbody>\n",
       "    <tr>\n",
       "      <th>count</th>\n",
       "      <td>1517.000000</td>\n",
       "      <td>1517.000000</td>\n",
       "      <td>1.517000e+03</td>\n",
       "      <td>1.517000e+03</td>\n",
       "      <td>1.517000e+03</td>\n",
       "      <td>1.517000e+03</td>\n",
       "      <td>1.517000e+03</td>\n",
       "      <td>1.517000e+03</td>\n",
       "      <td>1.517000e+03</td>\n",
       "      <td>1517.000000</td>\n",
       "      <td>1517.000000</td>\n",
       "    </tr>\n",
       "    <tr>\n",
       "      <th>mean</th>\n",
       "      <td>26.995386</td>\n",
       "      <td>1.074990</td>\n",
       "      <td>1.601879e+06</td>\n",
       "      <td>6.464387e+05</td>\n",
       "      <td>6.114375e+05</td>\n",
       "      <td>5.040550e+04</td>\n",
       "      <td>2.935974e+05</td>\n",
       "      <td>2.487736e+05</td>\n",
       "      <td>4.264205e+04</td>\n",
       "      <td>2181.771074</td>\n",
       "      <td>2015.162821</td>\n",
       "    </tr>\n",
       "    <tr>\n",
       "      <th>std</th>\n",
       "      <td>14.848287</td>\n",
       "      <td>0.188891</td>\n",
       "      <td>4.433143e+06</td>\n",
       "      <td>1.947614e+06</td>\n",
       "      <td>1.672906e+06</td>\n",
       "      <td>1.377812e+05</td>\n",
       "      <td>7.579765e+05</td>\n",
       "      <td>6.474765e+05</td>\n",
       "      <td>1.182157e+05</td>\n",
       "      <td>7455.712144</td>\n",
       "      <td>0.369324</td>\n",
       "    </tr>\n",
       "    <tr>\n",
       "      <th>min</th>\n",
       "      <td>0.000000</td>\n",
       "      <td>0.490000</td>\n",
       "      <td>3.875074e+04</td>\n",
       "      <td>4.677200e+02</td>\n",
       "      <td>1.783770e+03</td>\n",
       "      <td>0.000000e+00</td>\n",
       "      <td>3.311770e+03</td>\n",
       "      <td>3.311770e+03</td>\n",
       "      <td>0.000000e+00</td>\n",
       "      <td>0.000000</td>\n",
       "      <td>2015.000000</td>\n",
       "    </tr>\n",
       "    <tr>\n",
       "      <th>25%</th>\n",
       "      <td>14.000000</td>\n",
       "      <td>0.980000</td>\n",
       "      <td>1.474700e+05</td>\n",
       "      <td>2.040034e+04</td>\n",
       "      <td>4.147606e+04</td>\n",
       "      <td>9.112500e+02</td>\n",
       "      <td>3.620689e+04</td>\n",
       "      <td>2.972722e+04</td>\n",
       "      <td>5.407400e+02</td>\n",
       "      <td>0.000000</td>\n",
       "      <td>2015.000000</td>\n",
       "    </tr>\n",
       "    <tr>\n",
       "      <th>50%</th>\n",
       "      <td>29.000000</td>\n",
       "      <td>1.080000</td>\n",
       "      <td>4.027919e+05</td>\n",
       "      <td>8.175117e+04</td>\n",
       "      <td>1.186649e+05</td>\n",
       "      <td>7.688170e+03</td>\n",
       "      <td>7.397906e+04</td>\n",
       "      <td>6.237569e+04</td>\n",
       "      <td>5.044350e+03</td>\n",
       "      <td>0.000000</td>\n",
       "      <td>2015.000000</td>\n",
       "    </tr>\n",
       "    <tr>\n",
       "      <th>75%</th>\n",
       "      <td>39.000000</td>\n",
       "      <td>1.190000</td>\n",
       "      <td>9.819751e+05</td>\n",
       "      <td>3.775785e+05</td>\n",
       "      <td>4.851503e+05</td>\n",
       "      <td>2.916730e+04</td>\n",
       "      <td>1.576097e+05</td>\n",
       "      <td>1.461994e+05</td>\n",
       "      <td>2.926767e+04</td>\n",
       "      <td>401.480000</td>\n",
       "      <td>2015.000000</td>\n",
       "    </tr>\n",
       "    <tr>\n",
       "      <th>max</th>\n",
       "      <td>51.000000</td>\n",
       "      <td>1.680000</td>\n",
       "      <td>4.465546e+07</td>\n",
       "      <td>1.893304e+07</td>\n",
       "      <td>1.895648e+07</td>\n",
       "      <td>1.381516e+06</td>\n",
       "      <td>6.736304e+06</td>\n",
       "      <td>5.893642e+06</td>\n",
       "      <td>1.121076e+06</td>\n",
       "      <td>108072.790000</td>\n",
       "      <td>2016.000000</td>\n",
       "    </tr>\n",
       "  </tbody>\n",
       "</table>\n",
       "</div>"
      ],
      "text/plain": [
       "        Unnamed: 0  AveragePrice  Total Volume          4046          4225  \\\n",
       "count  1517.000000   1517.000000  1.517000e+03  1.517000e+03  1.517000e+03   \n",
       "mean     26.995386      1.074990  1.601879e+06  6.464387e+05  6.114375e+05   \n",
       "std      14.848287      0.188891  4.433143e+06  1.947614e+06  1.672906e+06   \n",
       "min       0.000000      0.490000  3.875074e+04  4.677200e+02  1.783770e+03   \n",
       "25%      14.000000      0.980000  1.474700e+05  2.040034e+04  4.147606e+04   \n",
       "50%      29.000000      1.080000  4.027919e+05  8.175117e+04  1.186649e+05   \n",
       "75%      39.000000      1.190000  9.819751e+05  3.775785e+05  4.851503e+05   \n",
       "max      51.000000      1.680000  4.465546e+07  1.893304e+07  1.895648e+07   \n",
       "\n",
       "               4770    Total Bags    Small Bags    Large Bags    XLarge Bags  \\\n",
       "count  1.517000e+03  1.517000e+03  1.517000e+03  1.517000e+03    1517.000000   \n",
       "mean   5.040550e+04  2.935974e+05  2.487736e+05  4.264205e+04    2181.771074   \n",
       "std    1.377812e+05  7.579765e+05  6.474765e+05  1.182157e+05    7455.712144   \n",
       "min    0.000000e+00  3.311770e+03  3.311770e+03  0.000000e+00       0.000000   \n",
       "25%    9.112500e+02  3.620689e+04  2.972722e+04  5.407400e+02       0.000000   \n",
       "50%    7.688170e+03  7.397906e+04  6.237569e+04  5.044350e+03       0.000000   \n",
       "75%    2.916730e+04  1.576097e+05  1.461994e+05  2.926767e+04     401.480000   \n",
       "max    1.381516e+06  6.736304e+06  5.893642e+06  1.121076e+06  108072.790000   \n",
       "\n",
       "              year  \n",
       "count  1517.000000  \n",
       "mean   2015.162821  \n",
       "std       0.369324  \n",
       "min    2015.000000  \n",
       "25%    2015.000000  \n",
       "50%    2015.000000  \n",
       "75%    2015.000000  \n",
       "max    2016.000000  "
      ]
     },
     "execution_count": 178,
     "metadata": {},
     "output_type": "execute_result"
    }
   ],
   "source": [
    "df.describe()"
   ]
  },
  {
   "cell_type": "code",
   "execution_count": 68,
   "id": "27f18455",
   "metadata": {},
   "outputs": [
    {
     "name": "stdout",
     "output_type": "stream",
     "text": [
      "<class 'pandas.core.frame.DataFrame'>\n",
      "RangeIndex: 16468 entries, 0 to 16467\n",
      "Data columns (total 14 columns):\n",
      " #   Column        Non-Null Count  Dtype  \n",
      "---  ------        --------------  -----  \n",
      " 0   Unnamed: 0    1517 non-null   float64\n",
      " 1   Date          1517 non-null   object \n",
      " 2   AveragePrice  1517 non-null   float64\n",
      " 3   Total Volume  1517 non-null   float64\n",
      " 4   4046          1517 non-null   float64\n",
      " 5   4225          1517 non-null   float64\n",
      " 6   4770          1517 non-null   float64\n",
      " 7   Total Bags    1517 non-null   float64\n",
      " 8   Small Bags    1517 non-null   float64\n",
      " 9   Large Bags    1517 non-null   float64\n",
      " 10  XLarge Bags   1517 non-null   float64\n",
      " 11  type          1517 non-null   object \n",
      " 12  year          1517 non-null   float64\n",
      " 13  region        1517 non-null   object \n",
      "dtypes: float64(11), object(3)\n",
      "memory usage: 1.8+ MB\n"
     ]
    }
   ],
   "source": [
    "df.info()"
   ]
  },
  {
   "cell_type": "markdown",
   "id": "cc2c9ff2",
   "metadata": {},
   "source": [
    "### As we can see that the 'Date' column showing object datatype first we fixwith this problem"
   ]
  },
  {
   "cell_type": "code",
   "execution_count": 179,
   "id": "87069ba9",
   "metadata": {},
   "outputs": [
    {
     "data": {
      "text/plain": [
       "0       2015-12-27\n",
       "1       2015-12-20\n",
       "2       2015-12-13\n",
       "3       2015-06-12\n",
       "4       2015-11-29\n",
       "           ...    \n",
       "16463          NaT\n",
       "16464          NaT\n",
       "16465          NaT\n",
       "16466          NaT\n",
       "16467          NaT\n",
       "Name: Date, Length: 16468, dtype: datetime64[ns]"
      ]
     },
     "execution_count": 179,
     "metadata": {},
     "output_type": "execute_result"
    }
   ],
   "source": [
    "pd.to_datetime(df['Date'])"
   ]
  },
  {
   "cell_type": "markdown",
   "id": "875bc216",
   "metadata": {},
   "source": [
    "### Observations:\n",
    "\n",
    "1. All columns have same no of counts it means that there is no missing value\n",
    "\n",
    "2. 'Date', 'type' & 'region' are of object datatype & rest are of integer type\n",
    "\n",
    "3. There are 16468 rows & 14 columns\n",
    "\n",
    "4. First column is 'Unnamed: 0' which doesn't contribute in the prediction so later we can drop it\n",
    "\n",
    "5. We can see that the value counts for every column is 1517 but the rows are 16468 so we can consider only perticular rows which  have data"
   ]
  },
  {
   "cell_type": "code",
   "execution_count": 71,
   "id": "48eb15cc",
   "metadata": {},
   "outputs": [
    {
     "data": {
      "text/html": [
       "<div>\n",
       "<style scoped>\n",
       "    .dataframe tbody tr th:only-of-type {\n",
       "        vertical-align: middle;\n",
       "    }\n",
       "\n",
       "    .dataframe tbody tr th {\n",
       "        vertical-align: top;\n",
       "    }\n",
       "\n",
       "    .dataframe thead th {\n",
       "        text-align: right;\n",
       "    }\n",
       "</style>\n",
       "<table border=\"1\" class=\"dataframe\">\n",
       "  <thead>\n",
       "    <tr style=\"text-align: right;\">\n",
       "      <th></th>\n",
       "      <th>Unnamed: 0</th>\n",
       "      <th>Date</th>\n",
       "      <th>AveragePrice</th>\n",
       "      <th>Total Volume</th>\n",
       "      <th>4046</th>\n",
       "      <th>4225</th>\n",
       "      <th>4770</th>\n",
       "      <th>Total Bags</th>\n",
       "      <th>Small Bags</th>\n",
       "      <th>Large Bags</th>\n",
       "      <th>XLarge Bags</th>\n",
       "      <th>type</th>\n",
       "      <th>year</th>\n",
       "      <th>region</th>\n",
       "    </tr>\n",
       "  </thead>\n",
       "  <tbody>\n",
       "    <tr>\n",
       "      <th>1516</th>\n",
       "      <td>14.0</td>\n",
       "      <td>18-09-2016</td>\n",
       "      <td>1.43</td>\n",
       "      <td>182978.3</td>\n",
       "      <td>43116.41</td>\n",
       "      <td>54193.42</td>\n",
       "      <td>16563.91</td>\n",
       "      <td>69104.56</td>\n",
       "      <td>57456.21</td>\n",
       "      <td>11648.35</td>\n",
       "      <td>0.0</td>\n",
       "      <td>conventional</td>\n",
       "      <td>2016.0</td>\n",
       "      <td>Charlotte</td>\n",
       "    </tr>\n",
       "    <tr>\n",
       "      <th>1517</th>\n",
       "      <td>NaN</td>\n",
       "      <td>NaN</td>\n",
       "      <td>NaN</td>\n",
       "      <td>NaN</td>\n",
       "      <td>NaN</td>\n",
       "      <td>NaN</td>\n",
       "      <td>NaN</td>\n",
       "      <td>NaN</td>\n",
       "      <td>NaN</td>\n",
       "      <td>NaN</td>\n",
       "      <td>NaN</td>\n",
       "      <td>NaN</td>\n",
       "      <td>NaN</td>\n",
       "      <td>NaN</td>\n",
       "    </tr>\n",
       "    <tr>\n",
       "      <th>1518</th>\n",
       "      <td>NaN</td>\n",
       "      <td>NaN</td>\n",
       "      <td>NaN</td>\n",
       "      <td>NaN</td>\n",
       "      <td>NaN</td>\n",
       "      <td>NaN</td>\n",
       "      <td>NaN</td>\n",
       "      <td>NaN</td>\n",
       "      <td>NaN</td>\n",
       "      <td>NaN</td>\n",
       "      <td>NaN</td>\n",
       "      <td>NaN</td>\n",
       "      <td>NaN</td>\n",
       "      <td>NaN</td>\n",
       "    </tr>\n",
       "    <tr>\n",
       "      <th>1519</th>\n",
       "      <td>NaN</td>\n",
       "      <td>NaN</td>\n",
       "      <td>NaN</td>\n",
       "      <td>NaN</td>\n",
       "      <td>NaN</td>\n",
       "      <td>NaN</td>\n",
       "      <td>NaN</td>\n",
       "      <td>NaN</td>\n",
       "      <td>NaN</td>\n",
       "      <td>NaN</td>\n",
       "      <td>NaN</td>\n",
       "      <td>NaN</td>\n",
       "      <td>NaN</td>\n",
       "      <td>NaN</td>\n",
       "    </tr>\n",
       "    <tr>\n",
       "      <th>1520</th>\n",
       "      <td>NaN</td>\n",
       "      <td>NaN</td>\n",
       "      <td>NaN</td>\n",
       "      <td>NaN</td>\n",
       "      <td>NaN</td>\n",
       "      <td>NaN</td>\n",
       "      <td>NaN</td>\n",
       "      <td>NaN</td>\n",
       "      <td>NaN</td>\n",
       "      <td>NaN</td>\n",
       "      <td>NaN</td>\n",
       "      <td>NaN</td>\n",
       "      <td>NaN</td>\n",
       "      <td>NaN</td>\n",
       "    </tr>\n",
       "    <tr>\n",
       "      <th>...</th>\n",
       "      <td>...</td>\n",
       "      <td>...</td>\n",
       "      <td>...</td>\n",
       "      <td>...</td>\n",
       "      <td>...</td>\n",
       "      <td>...</td>\n",
       "      <td>...</td>\n",
       "      <td>...</td>\n",
       "      <td>...</td>\n",
       "      <td>...</td>\n",
       "      <td>...</td>\n",
       "      <td>...</td>\n",
       "      <td>...</td>\n",
       "      <td>...</td>\n",
       "    </tr>\n",
       "    <tr>\n",
       "      <th>16463</th>\n",
       "      <td>NaN</td>\n",
       "      <td>NaN</td>\n",
       "      <td>NaN</td>\n",
       "      <td>NaN</td>\n",
       "      <td>NaN</td>\n",
       "      <td>NaN</td>\n",
       "      <td>NaN</td>\n",
       "      <td>NaN</td>\n",
       "      <td>NaN</td>\n",
       "      <td>NaN</td>\n",
       "      <td>NaN</td>\n",
       "      <td>NaN</td>\n",
       "      <td>NaN</td>\n",
       "      <td>NaN</td>\n",
       "    </tr>\n",
       "    <tr>\n",
       "      <th>16464</th>\n",
       "      <td>NaN</td>\n",
       "      <td>NaN</td>\n",
       "      <td>NaN</td>\n",
       "      <td>NaN</td>\n",
       "      <td>NaN</td>\n",
       "      <td>NaN</td>\n",
       "      <td>NaN</td>\n",
       "      <td>NaN</td>\n",
       "      <td>NaN</td>\n",
       "      <td>NaN</td>\n",
       "      <td>NaN</td>\n",
       "      <td>NaN</td>\n",
       "      <td>NaN</td>\n",
       "      <td>NaN</td>\n",
       "    </tr>\n",
       "    <tr>\n",
       "      <th>16465</th>\n",
       "      <td>NaN</td>\n",
       "      <td>NaN</td>\n",
       "      <td>NaN</td>\n",
       "      <td>NaN</td>\n",
       "      <td>NaN</td>\n",
       "      <td>NaN</td>\n",
       "      <td>NaN</td>\n",
       "      <td>NaN</td>\n",
       "      <td>NaN</td>\n",
       "      <td>NaN</td>\n",
       "      <td>NaN</td>\n",
       "      <td>NaN</td>\n",
       "      <td>NaN</td>\n",
       "      <td>NaN</td>\n",
       "    </tr>\n",
       "    <tr>\n",
       "      <th>16466</th>\n",
       "      <td>NaN</td>\n",
       "      <td>NaN</td>\n",
       "      <td>NaN</td>\n",
       "      <td>NaN</td>\n",
       "      <td>NaN</td>\n",
       "      <td>NaN</td>\n",
       "      <td>NaN</td>\n",
       "      <td>NaN</td>\n",
       "      <td>NaN</td>\n",
       "      <td>NaN</td>\n",
       "      <td>NaN</td>\n",
       "      <td>NaN</td>\n",
       "      <td>NaN</td>\n",
       "      <td>NaN</td>\n",
       "    </tr>\n",
       "    <tr>\n",
       "      <th>16467</th>\n",
       "      <td>NaN</td>\n",
       "      <td>NaN</td>\n",
       "      <td>NaN</td>\n",
       "      <td>NaN</td>\n",
       "      <td>NaN</td>\n",
       "      <td>NaN</td>\n",
       "      <td>NaN</td>\n",
       "      <td>NaN</td>\n",
       "      <td>NaN</td>\n",
       "      <td>NaN</td>\n",
       "      <td>NaN</td>\n",
       "      <td>NaN</td>\n",
       "      <td>NaN</td>\n",
       "      <td>NaN</td>\n",
       "    </tr>\n",
       "  </tbody>\n",
       "</table>\n",
       "<p>14952 rows × 14 columns</p>\n",
       "</div>"
      ],
      "text/plain": [
       "       Unnamed: 0        Date  AveragePrice  Total Volume      4046      4225  \\\n",
       "1516         14.0  18-09-2016          1.43      182978.3  43116.41  54193.42   \n",
       "1517          NaN         NaN           NaN           NaN       NaN       NaN   \n",
       "1518          NaN         NaN           NaN           NaN       NaN       NaN   \n",
       "1519          NaN         NaN           NaN           NaN       NaN       NaN   \n",
       "1520          NaN         NaN           NaN           NaN       NaN       NaN   \n",
       "...           ...         ...           ...           ...       ...       ...   \n",
       "16463         NaN         NaN           NaN           NaN       NaN       NaN   \n",
       "16464         NaN         NaN           NaN           NaN       NaN       NaN   \n",
       "16465         NaN         NaN           NaN           NaN       NaN       NaN   \n",
       "16466         NaN         NaN           NaN           NaN       NaN       NaN   \n",
       "16467         NaN         NaN           NaN           NaN       NaN       NaN   \n",
       "\n",
       "           4770  Total Bags  Small Bags  Large Bags  XLarge Bags  \\\n",
       "1516   16563.91    69104.56    57456.21    11648.35          0.0   \n",
       "1517        NaN         NaN         NaN         NaN          NaN   \n",
       "1518        NaN         NaN         NaN         NaN          NaN   \n",
       "1519        NaN         NaN         NaN         NaN          NaN   \n",
       "1520        NaN         NaN         NaN         NaN          NaN   \n",
       "...         ...         ...         ...         ...          ...   \n",
       "16463       NaN         NaN         NaN         NaN          NaN   \n",
       "16464       NaN         NaN         NaN         NaN          NaN   \n",
       "16465       NaN         NaN         NaN         NaN          NaN   \n",
       "16466       NaN         NaN         NaN         NaN          NaN   \n",
       "16467       NaN         NaN         NaN         NaN          NaN   \n",
       "\n",
       "               type    year     region  \n",
       "1516   conventional  2016.0  Charlotte  \n",
       "1517            NaN     NaN        NaN  \n",
       "1518            NaN     NaN        NaN  \n",
       "1519            NaN     NaN        NaN  \n",
       "1520            NaN     NaN        NaN  \n",
       "...             ...     ...        ...  \n",
       "16463           NaN     NaN        NaN  \n",
       "16464           NaN     NaN        NaN  \n",
       "16465           NaN     NaN        NaN  \n",
       "16466           NaN     NaN        NaN  \n",
       "16467           NaN     NaN        NaN  \n",
       "\n",
       "[14952 rows x 14 columns]"
      ]
     },
     "execution_count": 71,
     "metadata": {},
     "output_type": "execute_result"
    }
   ],
   "source": [
    "df.loc[1516:]"
   ]
  },
  {
   "cell_type": "code",
   "execution_count": 180,
   "id": "e08a67ce",
   "metadata": {},
   "outputs": [],
   "source": [
    "df = df.iloc[0:1517]"
   ]
  },
  {
   "cell_type": "code",
   "execution_count": 181,
   "id": "6c87ebde",
   "metadata": {},
   "outputs": [
    {
     "data": {
      "text/html": [
       "<div>\n",
       "<style scoped>\n",
       "    .dataframe tbody tr th:only-of-type {\n",
       "        vertical-align: middle;\n",
       "    }\n",
       "\n",
       "    .dataframe tbody tr th {\n",
       "        vertical-align: top;\n",
       "    }\n",
       "\n",
       "    .dataframe thead th {\n",
       "        text-align: right;\n",
       "    }\n",
       "</style>\n",
       "<table border=\"1\" class=\"dataframe\">\n",
       "  <thead>\n",
       "    <tr style=\"text-align: right;\">\n",
       "      <th></th>\n",
       "      <th>Unnamed: 0</th>\n",
       "      <th>Date</th>\n",
       "      <th>AveragePrice</th>\n",
       "      <th>Total Volume</th>\n",
       "      <th>4046</th>\n",
       "      <th>4225</th>\n",
       "      <th>4770</th>\n",
       "      <th>Total Bags</th>\n",
       "      <th>Small Bags</th>\n",
       "      <th>Large Bags</th>\n",
       "      <th>XLarge Bags</th>\n",
       "      <th>type</th>\n",
       "      <th>year</th>\n",
       "      <th>region</th>\n",
       "    </tr>\n",
       "  </thead>\n",
       "  <tbody>\n",
       "    <tr>\n",
       "      <th>0</th>\n",
       "      <td>0.0</td>\n",
       "      <td>27-12-2015</td>\n",
       "      <td>1.33</td>\n",
       "      <td>64236.62</td>\n",
       "      <td>1036.74</td>\n",
       "      <td>54454.85</td>\n",
       "      <td>48.16</td>\n",
       "      <td>8696.87</td>\n",
       "      <td>8603.62</td>\n",
       "      <td>93.25</td>\n",
       "      <td>0.00</td>\n",
       "      <td>conventional</td>\n",
       "      <td>2015.0</td>\n",
       "      <td>Albany</td>\n",
       "    </tr>\n",
       "    <tr>\n",
       "      <th>1</th>\n",
       "      <td>1.0</td>\n",
       "      <td>20-12-2015</td>\n",
       "      <td>1.35</td>\n",
       "      <td>54876.98</td>\n",
       "      <td>674.28</td>\n",
       "      <td>44638.81</td>\n",
       "      <td>58.33</td>\n",
       "      <td>9505.56</td>\n",
       "      <td>9408.07</td>\n",
       "      <td>97.49</td>\n",
       "      <td>0.00</td>\n",
       "      <td>conventional</td>\n",
       "      <td>2015.0</td>\n",
       "      <td>Albany</td>\n",
       "    </tr>\n",
       "    <tr>\n",
       "      <th>2</th>\n",
       "      <td>2.0</td>\n",
       "      <td>13-12-2015</td>\n",
       "      <td>0.93</td>\n",
       "      <td>118220.22</td>\n",
       "      <td>794.70</td>\n",
       "      <td>109149.67</td>\n",
       "      <td>130.50</td>\n",
       "      <td>8145.35</td>\n",
       "      <td>8042.21</td>\n",
       "      <td>103.14</td>\n",
       "      <td>0.00</td>\n",
       "      <td>conventional</td>\n",
       "      <td>2015.0</td>\n",
       "      <td>Albany</td>\n",
       "    </tr>\n",
       "    <tr>\n",
       "      <th>3</th>\n",
       "      <td>3.0</td>\n",
       "      <td>06-12-2015</td>\n",
       "      <td>1.08</td>\n",
       "      <td>78992.15</td>\n",
       "      <td>1132.00</td>\n",
       "      <td>71976.41</td>\n",
       "      <td>72.58</td>\n",
       "      <td>5811.16</td>\n",
       "      <td>5677.40</td>\n",
       "      <td>133.76</td>\n",
       "      <td>0.00</td>\n",
       "      <td>conventional</td>\n",
       "      <td>2015.0</td>\n",
       "      <td>Albany</td>\n",
       "    </tr>\n",
       "    <tr>\n",
       "      <th>4</th>\n",
       "      <td>4.0</td>\n",
       "      <td>29-11-2015</td>\n",
       "      <td>1.28</td>\n",
       "      <td>51039.60</td>\n",
       "      <td>941.48</td>\n",
       "      <td>43838.39</td>\n",
       "      <td>75.78</td>\n",
       "      <td>6183.95</td>\n",
       "      <td>5986.26</td>\n",
       "      <td>197.69</td>\n",
       "      <td>0.00</td>\n",
       "      <td>conventional</td>\n",
       "      <td>2015.0</td>\n",
       "      <td>Albany</td>\n",
       "    </tr>\n",
       "    <tr>\n",
       "      <th>...</th>\n",
       "      <td>...</td>\n",
       "      <td>...</td>\n",
       "      <td>...</td>\n",
       "      <td>...</td>\n",
       "      <td>...</td>\n",
       "      <td>...</td>\n",
       "      <td>...</td>\n",
       "      <td>...</td>\n",
       "      <td>...</td>\n",
       "      <td>...</td>\n",
       "      <td>...</td>\n",
       "      <td>...</td>\n",
       "      <td>...</td>\n",
       "      <td>...</td>\n",
       "    </tr>\n",
       "    <tr>\n",
       "      <th>1512</th>\n",
       "      <td>10.0</td>\n",
       "      <td>16-10-2016</td>\n",
       "      <td>1.39</td>\n",
       "      <td>190846.01</td>\n",
       "      <td>57529.11</td>\n",
       "      <td>56366.66</td>\n",
       "      <td>17531.78</td>\n",
       "      <td>59418.46</td>\n",
       "      <td>48823.53</td>\n",
       "      <td>10354.65</td>\n",
       "      <td>240.28</td>\n",
       "      <td>conventional</td>\n",
       "      <td>2016.0</td>\n",
       "      <td>Charlotte</td>\n",
       "    </tr>\n",
       "    <tr>\n",
       "      <th>1513</th>\n",
       "      <td>11.0</td>\n",
       "      <td>09-10-2016</td>\n",
       "      <td>1.51</td>\n",
       "      <td>178235.75</td>\n",
       "      <td>43325.87</td>\n",
       "      <td>52189.61</td>\n",
       "      <td>19419.57</td>\n",
       "      <td>63300.70</td>\n",
       "      <td>54704.14</td>\n",
       "      <td>8596.56</td>\n",
       "      <td>0.00</td>\n",
       "      <td>conventional</td>\n",
       "      <td>2016.0</td>\n",
       "      <td>Charlotte</td>\n",
       "    </tr>\n",
       "    <tr>\n",
       "      <th>1514</th>\n",
       "      <td>12.0</td>\n",
       "      <td>02-10-2016</td>\n",
       "      <td>1.48</td>\n",
       "      <td>178410.82</td>\n",
       "      <td>46364.75</td>\n",
       "      <td>52893.38</td>\n",
       "      <td>16736.92</td>\n",
       "      <td>62415.77</td>\n",
       "      <td>53332.61</td>\n",
       "      <td>8258.16</td>\n",
       "      <td>825.00</td>\n",
       "      <td>conventional</td>\n",
       "      <td>2016.0</td>\n",
       "      <td>Charlotte</td>\n",
       "    </tr>\n",
       "    <tr>\n",
       "      <th>1515</th>\n",
       "      <td>13.0</td>\n",
       "      <td>25-09-2016</td>\n",
       "      <td>1.47</td>\n",
       "      <td>189131.52</td>\n",
       "      <td>54110.79</td>\n",
       "      <td>53593.58</td>\n",
       "      <td>17495.42</td>\n",
       "      <td>63931.73</td>\n",
       "      <td>55653.47</td>\n",
       "      <td>8278.26</td>\n",
       "      <td>0.00</td>\n",
       "      <td>conventional</td>\n",
       "      <td>2016.0</td>\n",
       "      <td>Charlotte</td>\n",
       "    </tr>\n",
       "    <tr>\n",
       "      <th>1516</th>\n",
       "      <td>14.0</td>\n",
       "      <td>18-09-2016</td>\n",
       "      <td>1.43</td>\n",
       "      <td>182978.30</td>\n",
       "      <td>43116.41</td>\n",
       "      <td>54193.42</td>\n",
       "      <td>16563.91</td>\n",
       "      <td>69104.56</td>\n",
       "      <td>57456.21</td>\n",
       "      <td>11648.35</td>\n",
       "      <td>0.00</td>\n",
       "      <td>conventional</td>\n",
       "      <td>2016.0</td>\n",
       "      <td>Charlotte</td>\n",
       "    </tr>\n",
       "  </tbody>\n",
       "</table>\n",
       "<p>1517 rows × 14 columns</p>\n",
       "</div>"
      ],
      "text/plain": [
       "      Unnamed: 0        Date  AveragePrice  Total Volume      4046       4225  \\\n",
       "0            0.0  27-12-2015          1.33      64236.62   1036.74   54454.85   \n",
       "1            1.0  20-12-2015          1.35      54876.98    674.28   44638.81   \n",
       "2            2.0  13-12-2015          0.93     118220.22    794.70  109149.67   \n",
       "3            3.0  06-12-2015          1.08      78992.15   1132.00   71976.41   \n",
       "4            4.0  29-11-2015          1.28      51039.60    941.48   43838.39   \n",
       "...          ...         ...           ...           ...       ...        ...   \n",
       "1512        10.0  16-10-2016          1.39     190846.01  57529.11   56366.66   \n",
       "1513        11.0  09-10-2016          1.51     178235.75  43325.87   52189.61   \n",
       "1514        12.0  02-10-2016          1.48     178410.82  46364.75   52893.38   \n",
       "1515        13.0  25-09-2016          1.47     189131.52  54110.79   53593.58   \n",
       "1516        14.0  18-09-2016          1.43     182978.30  43116.41   54193.42   \n",
       "\n",
       "          4770  Total Bags  Small Bags  Large Bags  XLarge Bags          type  \\\n",
       "0        48.16     8696.87     8603.62       93.25         0.00  conventional   \n",
       "1        58.33     9505.56     9408.07       97.49         0.00  conventional   \n",
       "2       130.50     8145.35     8042.21      103.14         0.00  conventional   \n",
       "3        72.58     5811.16     5677.40      133.76         0.00  conventional   \n",
       "4        75.78     6183.95     5986.26      197.69         0.00  conventional   \n",
       "...        ...         ...         ...         ...          ...           ...   \n",
       "1512  17531.78    59418.46    48823.53    10354.65       240.28  conventional   \n",
       "1513  19419.57    63300.70    54704.14     8596.56         0.00  conventional   \n",
       "1514  16736.92    62415.77    53332.61     8258.16       825.00  conventional   \n",
       "1515  17495.42    63931.73    55653.47     8278.26         0.00  conventional   \n",
       "1516  16563.91    69104.56    57456.21    11648.35         0.00  conventional   \n",
       "\n",
       "        year     region  \n",
       "0     2015.0     Albany  \n",
       "1     2015.0     Albany  \n",
       "2     2015.0     Albany  \n",
       "3     2015.0     Albany  \n",
       "4     2015.0     Albany  \n",
       "...      ...        ...  \n",
       "1512  2016.0  Charlotte  \n",
       "1513  2016.0  Charlotte  \n",
       "1514  2016.0  Charlotte  \n",
       "1515  2016.0  Charlotte  \n",
       "1516  2016.0  Charlotte  \n",
       "\n",
       "[1517 rows x 14 columns]"
      ]
     },
     "execution_count": 181,
     "metadata": {},
     "output_type": "execute_result"
    }
   ],
   "source": [
    "df"
   ]
  },
  {
   "cell_type": "markdown",
   "id": "068eec20",
   "metadata": {},
   "source": [
    "#### Droping unwanted column 'Unnamed: 0'"
   ]
  },
  {
   "cell_type": "code",
   "execution_count": 182,
   "id": "22388e4a",
   "metadata": {},
   "outputs": [],
   "source": [
    "df.drop('Unnamed: 0', inplace= True, axis=1)"
   ]
  },
  {
   "cell_type": "code",
   "execution_count": 183,
   "id": "9751aad5",
   "metadata": {},
   "outputs": [
    {
     "data": {
      "text/plain": [
       "(1517, 13)"
      ]
     },
     "execution_count": 183,
     "metadata": {},
     "output_type": "execute_result"
    }
   ],
   "source": [
    "df.shape"
   ]
  },
  {
   "cell_type": "markdown",
   "id": "d78f32d4",
   "metadata": {},
   "source": [
    "#### Checking null values using heatmap"
   ]
  },
  {
   "cell_type": "code",
   "execution_count": 96,
   "id": "bffd6228",
   "metadata": {},
   "outputs": [
    {
     "data": {
      "text/plain": [
       "<AxesSubplot:>"
      ]
     },
     "execution_count": 96,
     "metadata": {},
     "output_type": "execute_result"
    },
    {
     "data": {
      "image/png": "[encoded data removed]",
      "text/plain": [
       "<Figure size 432x288 with 2 Axes>"
      ]
     },
     "metadata": {
      "needs_background": "light"
     },
     "output_type": "display_data"
    }
   ],
   "source": [
    "sns.heatmap(df.isnull().sum().to_frame())"
   ]
  },
  {
   "cell_type": "markdown",
   "id": "089bb768",
   "metadata": {},
   "source": [
    "#### Again we prove that there is no null value in the dataset"
   ]
  },
  {
   "cell_type": "code",
   "execution_count": 56,
   "id": "4149afbb",
   "metadata": {},
   "outputs": [
    {
     "data": {
      "text/plain": [
       "array([2015., 2016.,   nan])"
      ]
     },
     "execution_count": 56,
     "metadata": {},
     "output_type": "execute_result"
    }
   ],
   "source": [
    "###Checking the list of counts of year column\n",
    "\n",
    "df['year'].unique()"
   ]
  },
  {
   "cell_type": "code",
   "execution_count": 55,
   "id": "2506e5d3",
   "metadata": {},
   "outputs": [
    {
     "data": {
      "text/plain": [
       "<function matplotlib.pyplot.show(close=None, block=None)>"
      ]
     },
     "execution_count": 55,
     "metadata": {},
     "output_type": "execute_result"
    },
    {
     "data": {
      "image/png": "[encoded data removed]",
      "text/plain": [
       "<Figure size 432x288 with 1 Axes>"
      ]
     },
     "metadata": {
      "needs_background": "light"
     },
     "output_type": "display_data"
    }
   ],
   "source": [
    "#Compairing columns using bar plot:\n",
    "\n",
    "plt.title(\"Compairing year vs AveragePrice\")\n",
    "sns.barplot(x = 'year', y = 'AveragePrice', data = df)\n",
    "plt.show"
   ]
  },
  {
   "cell_type": "markdown",
   "id": "97619117",
   "metadata": {},
   "source": [
    "From above plot we can see that the there is a maximum average price is there for avocado"
   ]
  },
  {
   "cell_type": "code",
   "execution_count": 61,
   "id": "114927a1",
   "metadata": {},
   "outputs": [
    {
     "data": {
      "text/plain": [
       "array(['conventional', nan], dtype=object)"
      ]
     },
     "execution_count": 61,
     "metadata": {},
     "output_type": "execute_result"
    }
   ],
   "source": [
    "###Checking the list of counts of 'type' column\n",
    "\n",
    "df['type'].unique()"
   ]
  },
  {
   "cell_type": "markdown",
   "id": "bc73a4f7",
   "metadata": {},
   "source": [
    "#### Now we going to check the skewness of data using histograph"
   ]
  },
  {
   "cell_type": "code",
   "execution_count": 97,
   "id": "ba686626",
   "metadata": {},
   "outputs": [
    {
     "data": {
      "image/png": "[encoded data removed]",
      "text/plain": [
       "<Figure size 1080x720 with 12 Axes>"
      ]
     },
     "metadata": {
      "needs_background": "light"
     },
     "output_type": "display_data"
    }
   ],
   "source": [
    "df.hist(color = 'y', figsize = (15,10), bins = 30) \n",
    "plt.show()"
   ]
  },
  {
   "cell_type": "markdown",
   "id": "badd417a",
   "metadata": {},
   "source": [
    "#### Fromthe above grph we can see that only the 'AveragePrice' column's data is normally distributed and rest of the columns are left skewed"
   ]
  },
  {
   "cell_type": "markdown",
   "id": "9577eabc",
   "metadata": {},
   "source": [
    "#### Checking skeweness"
   ]
  },
  {
   "cell_type": "code",
   "execution_count": 184,
   "id": "3aa20ef9",
   "metadata": {},
   "outputs": [
    {
     "data": {
      "text/plain": [
       "AveragePrice   -0.109444\n",
       "Total Volume    6.200138\n",
       "4046            6.051830\n",
       "4225            6.394926\n",
       "4770            5.405164\n",
       "Total Bags      5.366378\n",
       "Small Bags      5.355185\n",
       "Large Bags      5.144495\n",
       "XLarge Bags     5.775077\n",
       "year            1.828332\n",
       "dtype: float64"
      ]
     },
     "execution_count": 184,
     "metadata": {},
     "output_type": "execute_result"
    }
   ],
   "source": [
    "df.skew()"
   ]
  },
  {
   "cell_type": "markdown",
   "id": "4fa95a15",
   "metadata": {},
   "source": [
    "### Removing skewness "
   ]
  },
  {
   "cell_type": "code",
   "execution_count": 185,
   "id": "f3729f66",
   "metadata": {},
   "outputs": [],
   "source": [
    "skew = ('Total Volume','4046','4225','4770','Total Bags','Small Bags','Large Bags','XLarge Bags')\n",
    "for col in skew:\n",
    "    if df.skew().loc[col]>0.55:\n",
    "        df[col] = np.log1p(df[col])"
   ]
  },
  {
   "cell_type": "code",
   "execution_count": 186,
   "id": "9405d559",
   "metadata": {},
   "outputs": [
    {
     "data": {
      "text/plain": [
       "AveragePrice   -0.109444\n",
       "Total Volume    0.667468\n",
       "4046           -0.160268\n",
       "4225            0.184436\n",
       "4770           -0.355508\n",
       "Total Bags      0.695502\n",
       "Small Bags      0.713843\n",
       "Large Bags     -0.912766\n",
       "XLarge Bags     0.783913\n",
       "year            1.828332\n",
       "dtype: float64"
      ]
     },
     "execution_count": 186,
     "metadata": {},
     "output_type": "execute_result"
    }
   ],
   "source": [
    "df.skew()"
   ]
  },
  {
   "cell_type": "markdown",
   "id": "2863b1a7",
   "metadata": {},
   "source": [
    "#### Checking  forskewness after removing it"
   ]
  },
  {
   "cell_type": "code",
   "execution_count": 80,
   "id": "42a67ae1",
   "metadata": {},
   "outputs": [
    {
     "data": {
      "image/png": "[encoded data removed]",
      "text/plain": [
       "<Figure size 1080x720 with 12 Axes>"
      ]
     },
     "metadata": {
      "needs_background": "light"
     },
     "output_type": "display_data"
    }
   ],
   "source": [
    "df.hist(color = 'y', figsize = (15,10), bins = 30) \n",
    "plt.show()"
   ]
  },
  {
   "cell_type": "markdown",
   "id": "a549a692",
   "metadata": {},
   "source": [
    "### Checking for outliers"
   ]
  },
  {
   "cell_type": "code",
   "execution_count": 81,
   "id": "1f3fe212",
   "metadata": {},
   "outputs": [
    {
     "data": {
      "text/plain": [
       "AveragePrice        AxesSubplot(0.125,0.71587;0.133621x0.16413)\n",
       "Total Volume     AxesSubplot(0.285345,0.71587;0.133621x0.16413)\n",
       "4046              AxesSubplot(0.44569,0.71587;0.133621x0.16413)\n",
       "4225             AxesSubplot(0.606034,0.71587;0.133621x0.16413)\n",
       "4770             AxesSubplot(0.766379,0.71587;0.133621x0.16413)\n",
       "Total Bags         AxesSubplot(0.125,0.518913;0.133621x0.16413)\n",
       "Small Bags      AxesSubplot(0.285345,0.518913;0.133621x0.16413)\n",
       "Large Bags       AxesSubplot(0.44569,0.518913;0.133621x0.16413)\n",
       "XLarge Bags     AxesSubplot(0.606034,0.518913;0.133621x0.16413)\n",
       "year            AxesSubplot(0.766379,0.518913;0.133621x0.16413)\n",
       "dtype: object"
      ]
     },
     "execution_count": 81,
     "metadata": {},
     "output_type": "execute_result"
    },
    {
     "data": {
      "image/png": "[encoded data removed]",
      "text/plain": [
       "<Figure size 1080x720 with 20 Axes>"
      ]
     },
     "metadata": {
      "needs_background": "light"
     },
     "output_type": "display_data"
    }
   ],
   "source": [
    "df.plot(kind='box',subplots=True,layout=(4,5),figsize=(15,10))"
   ]
  },
  {
   "cell_type": "markdown",
   "id": "5c6811cc",
   "metadata": {},
   "source": [
    "### From above boxplot we can see that the outliers are present in most of the columns first we are going to  fix them"
   ]
  },
  {
   "cell_type": "code",
   "execution_count": 132,
   "id": "e027e8fb",
   "metadata": {},
   "outputs": [
    {
     "name": "stdout",
     "output_type": "stream",
     "text": [
      "      AveragePrice  Total Volume      4046      4225      4770  Total Bags  \\\n",
      "1         1.457684      1.467690  2.014834  0.684454  1.740097    1.622220   \n",
      "2         0.767156      0.933294  1.944544  0.159580  1.430797    1.734490   \n",
      "3         0.027430      1.214052  1.793165  0.404010  1.656443    1.979966   \n",
      "4         1.086877      1.518168  1.872028  0.695075  1.639900    1.934766   \n",
      "5         0.980933      1.453836  1.773845  0.641006  1.850915    1.878247   \n",
      "...            ...           ...       ...       ...       ...         ...   \n",
      "1512      1.669574      0.599810  0.110852  0.547516  0.470654    0.289739   \n",
      "1513      2.305243      0.647411  0.232304  0.592713  0.510394    0.243722   \n",
      "1514      2.146325      0.646728  0.203267  0.584850  0.452623    0.253958   \n",
      "1515      2.093353      0.606094  0.137091  0.577130  0.469847    0.236510   \n",
      "1516      1.881463      0.629125  0.234380  0.570597  0.448585    0.179940   \n",
      "\n",
      "      Small Bags  Large Bags  XLarge Bags  type      year    region  \n",
      "1       1.476666    0.954478     0.811218   NaN  0.441182  1.315522  \n",
      "2       1.589497    0.938149     0.811218   NaN  0.441182  1.315522  \n",
      "3       1.839954    0.862692     0.811218   NaN  0.441182  1.315522  \n",
      "4       1.801853    0.749036     0.811218   NaN  0.441182  1.315522  \n",
      "5       1.736410    0.876754     0.811218   NaN  0.441182  1.315522  \n",
      "...          ...         ...          ...   ...       ...       ...  \n",
      "1512    0.292171    0.408327     0.752460   NaN  2.266639  0.881365  \n",
      "1513    0.210360    0.353861     0.811218   NaN  2.266639  0.881365  \n",
      "1514    0.228626    0.342106     1.103232   NaN  2.266639  0.881365  \n",
      "1515    0.197983    0.342818     0.811218   NaN  2.266639  0.881365  \n",
      "1516    0.175051    0.442788     0.811218   NaN  2.266639  0.881365  \n",
      "\n",
      "[1516 rows x 12 columns]\n"
     ]
    }
   ],
   "source": [
    "from scipy.stats import zscore\n",
    "z= np.abs(zscore(df))\n",
    "print(z)"
   ]
  },
  {
   "cell_type": "code",
   "execution_count": 145,
   "id": "d05b0071",
   "metadata": {},
   "outputs": [
    {
     "name": "stdout",
     "output_type": "stream",
     "text": [
      "(array([   0,    0,    0, ..., 1515, 1515, 1515], dtype=int64), array([ 0,  1,  2, ...,  8, 10, 11], dtype=int64))\n",
      "(1516, 13)\n"
     ]
    }
   ],
   "source": [
    "threshold = 3 \n",
    "\n",
    "print(np.where(z<3))\n",
    "print(df.shape)"
   ]
  },
  {
   "cell_type": "code",
   "execution_count": 148,
   "id": "d3763965",
   "metadata": {},
   "outputs": [],
   "source": [
    "df_new = df[(z<3).all(axis=0)]"
   ]
  },
  {
   "cell_type": "code",
   "execution_count": 82,
   "id": "1dd0de2c",
   "metadata": {},
   "outputs": [
    {
     "name": "stdout",
     "output_type": "stream",
     "text": [
      "<class 'pandas.core.frame.DataFrame'>\n",
      "RangeIndex: 1516 entries, 1 to 1516\n",
      "Data columns (total 13 columns):\n",
      " #   Column        Non-Null Count  Dtype  \n",
      "---  ------        --------------  -----  \n",
      " 0   Date          1516 non-null   object \n",
      " 1   AveragePrice  1516 non-null   float64\n",
      " 2   Total Volume  1516 non-null   float64\n",
      " 3   4046          1516 non-null   float64\n",
      " 4   4225          1516 non-null   float64\n",
      " 5   4770          1516 non-null   float64\n",
      " 6   Total Bags    1516 non-null   float64\n",
      " 7   Small Bags    1516 non-null   float64\n",
      " 8   Large Bags    1516 non-null   float64\n",
      " 9   XLarge Bags   1516 non-null   float64\n",
      " 10  type          1516 non-null   object \n",
      " 11  year          1516 non-null   float64\n",
      " 12  region        1516 non-null   object \n",
      "dtypes: float64(10), object(3)\n",
      "memory usage: 154.1+ KB\n"
     ]
    }
   ],
   "source": [
    "df.info()"
   ]
  },
  {
   "cell_type": "markdown",
   "id": "a3fc1e46",
   "metadata": {},
   "source": [
    "#### Checking correlation matrix"
   ]
  },
  {
   "cell_type": "code",
   "execution_count": 83,
   "id": "faf29816",
   "metadata": {},
   "outputs": [
    {
     "data": {
      "image/png": "[encoded data removed]",
      "text/plain": [
       "<Figure size 1440x1080 with 2 Axes>"
      ]
     },
     "metadata": {
      "needs_background": "light"
     },
     "output_type": "display_data"
    }
   ],
   "source": [
    "\n",
    "plt.figure(figsize = (20,15))\n",
    "sns.heatmap(df.corr(),linewidths = 0.1, fmt = \".1g\", linecolor = \"black\", annot = True, cmap = \"Blues_r\")\n",
    "plt.yticks(rotation=0);\n",
    "plt.show()"
   ]
  },
  {
   "cell_type": "markdown",
   "id": "fe49f9cb",
   "metadata": {},
   "source": [
    "#### Now we have to encode the object columns and delete the the date column "
   ]
  },
  {
   "cell_type": "code",
   "execution_count": 187,
   "id": "72c1e88d",
   "metadata": {},
   "outputs": [],
   "source": [
    "from sklearn.preprocessing import LabelEncoder\n",
    "lab_enc = LabelEncoder()"
   ]
  },
  {
   "cell_type": "code",
   "execution_count": 188,
   "id": "da7997a5",
   "metadata": {},
   "outputs": [
    {
     "data": {
      "text/plain": [
       "0       0\n",
       "1       0\n",
       "2       0\n",
       "3       0\n",
       "4       0\n",
       "       ..\n",
       "1512    7\n",
       "1513    7\n",
       "1514    7\n",
       "1515    7\n",
       "1516    7\n",
       "Length: 1517, dtype: int32"
      ]
     },
     "execution_count": 188,
     "metadata": {},
     "output_type": "execute_result"
    }
   ],
   "source": [
    "df2 = lab_enc.fit_transform(df['region'])\n",
    "\n",
    "pd.Series(df2)"
   ]
  },
  {
   "cell_type": "code",
   "execution_count": 189,
   "id": "66efe637",
   "metadata": {},
   "outputs": [
    {
     "data": {
      "text/html": [
       "<div>\n",
       "<style scoped>\n",
       "    .dataframe tbody tr th:only-of-type {\n",
       "        vertical-align: middle;\n",
       "    }\n",
       "\n",
       "    .dataframe tbody tr th {\n",
       "        vertical-align: top;\n",
       "    }\n",
       "\n",
       "    .dataframe thead th {\n",
       "        text-align: right;\n",
       "    }\n",
       "</style>\n",
       "<table border=\"1\" class=\"dataframe\">\n",
       "  <thead>\n",
       "    <tr style=\"text-align: right;\">\n",
       "      <th></th>\n",
       "      <th>Date</th>\n",
       "      <th>AveragePrice</th>\n",
       "      <th>Total Volume</th>\n",
       "      <th>4046</th>\n",
       "      <th>4225</th>\n",
       "      <th>4770</th>\n",
       "      <th>Total Bags</th>\n",
       "      <th>Small Bags</th>\n",
       "      <th>Large Bags</th>\n",
       "      <th>XLarge Bags</th>\n",
       "      <th>type</th>\n",
       "      <th>year</th>\n",
       "      <th>region</th>\n",
       "    </tr>\n",
       "  </thead>\n",
       "  <tbody>\n",
       "    <tr>\n",
       "      <th>0</th>\n",
       "      <td>27-12-2015</td>\n",
       "      <td>1.33</td>\n",
       "      <td>11.070344</td>\n",
       "      <td>6.944801</td>\n",
       "      <td>10.905146</td>\n",
       "      <td>3.895080</td>\n",
       "      <td>9.070833</td>\n",
       "      <td>9.060055</td>\n",
       "      <td>4.545951</td>\n",
       "      <td>0.000000</td>\n",
       "      <td>conventional</td>\n",
       "      <td>2015.0</td>\n",
       "      <td>0</td>\n",
       "    </tr>\n",
       "    <tr>\n",
       "      <th>1</th>\n",
       "      <td>20-12-2015</td>\n",
       "      <td>1.35</td>\n",
       "      <td>10.912867</td>\n",
       "      <td>6.515127</td>\n",
       "      <td>10.706381</td>\n",
       "      <td>4.083115</td>\n",
       "      <td>9.159737</td>\n",
       "      <td>9.149429</td>\n",
       "      <td>4.589955</td>\n",
       "      <td>0.000000</td>\n",
       "      <td>conventional</td>\n",
       "      <td>2015.0</td>\n",
       "      <td>0</td>\n",
       "    </tr>\n",
       "    <tr>\n",
       "      <th>2</th>\n",
       "      <td>13-12-2015</td>\n",
       "      <td>0.93</td>\n",
       "      <td>11.680313</td>\n",
       "      <td>6.679222</td>\n",
       "      <td>11.600485</td>\n",
       "      <td>4.879007</td>\n",
       "      <td>9.005325</td>\n",
       "      <td>8.992584</td>\n",
       "      <td>4.645736</td>\n",
       "      <td>0.000000</td>\n",
       "      <td>conventional</td>\n",
       "      <td>2015.0</td>\n",
       "      <td>0</td>\n",
       "    </tr>\n",
       "    <tr>\n",
       "      <th>3</th>\n",
       "      <td>06-12-2015</td>\n",
       "      <td>1.08</td>\n",
       "      <td>11.277116</td>\n",
       "      <td>7.032624</td>\n",
       "      <td>11.184108</td>\n",
       "      <td>4.298373</td>\n",
       "      <td>8.667708</td>\n",
       "      <td>8.644425</td>\n",
       "      <td>4.903495</td>\n",
       "      <td>0.000000</td>\n",
       "      <td>conventional</td>\n",
       "      <td>2015.0</td>\n",
       "      <td>0</td>\n",
       "    </tr>\n",
       "    <tr>\n",
       "      <th>4</th>\n",
       "      <td>29-11-2015</td>\n",
       "      <td>1.28</td>\n",
       "      <td>10.840377</td>\n",
       "      <td>6.848515</td>\n",
       "      <td>10.688288</td>\n",
       "      <td>4.340944</td>\n",
       "      <td>8.729874</td>\n",
       "      <td>8.697389</td>\n",
       "      <td>5.291746</td>\n",
       "      <td>0.000000</td>\n",
       "      <td>conventional</td>\n",
       "      <td>2015.0</td>\n",
       "      <td>0</td>\n",
       "    </tr>\n",
       "    <tr>\n",
       "      <th>...</th>\n",
       "      <td>...</td>\n",
       "      <td>...</td>\n",
       "      <td>...</td>\n",
       "      <td>...</td>\n",
       "      <td>...</td>\n",
       "      <td>...</td>\n",
       "      <td>...</td>\n",
       "      <td>...</td>\n",
       "      <td>...</td>\n",
       "      <td>...</td>\n",
       "      <td>...</td>\n",
       "      <td>...</td>\n",
       "      <td>...</td>\n",
       "    </tr>\n",
       "    <tr>\n",
       "      <th>1512</th>\n",
       "      <td>16-10-2016</td>\n",
       "      <td>1.39</td>\n",
       "      <td>12.159227</td>\n",
       "      <td>10.960064</td>\n",
       "      <td>10.939651</td>\n",
       "      <td>9.771828</td>\n",
       "      <td>10.992377</td>\n",
       "      <td>10.795988</td>\n",
       "      <td>9.245288</td>\n",
       "      <td>5.485958</td>\n",
       "      <td>conventional</td>\n",
       "      <td>2016.0</td>\n",
       "      <td>7</td>\n",
       "    </tr>\n",
       "    <tr>\n",
       "      <th>1513</th>\n",
       "      <td>09-10-2016</td>\n",
       "      <td>1.51</td>\n",
       "      <td>12.090868</td>\n",
       "      <td>10.676528</td>\n",
       "      <td>10.862658</td>\n",
       "      <td>9.874088</td>\n",
       "      <td>11.055667</td>\n",
       "      <td>10.909713</td>\n",
       "      <td>9.059234</td>\n",
       "      <td>0.000000</td>\n",
       "      <td>conventional</td>\n",
       "      <td>2016.0</td>\n",
       "      <td>7</td>\n",
       "    </tr>\n",
       "    <tr>\n",
       "      <th>1514</th>\n",
       "      <td>02-10-2016</td>\n",
       "      <td>1.48</td>\n",
       "      <td>12.091850</td>\n",
       "      <td>10.744316</td>\n",
       "      <td>10.876052</td>\n",
       "      <td>9.725432</td>\n",
       "      <td>11.041589</td>\n",
       "      <td>10.884322</td>\n",
       "      <td>9.019078</td>\n",
       "      <td>6.716595</td>\n",
       "      <td>conventional</td>\n",
       "      <td>2016.0</td>\n",
       "      <td>7</td>\n",
       "    </tr>\n",
       "    <tr>\n",
       "      <th>1515</th>\n",
       "      <td>25-09-2016</td>\n",
       "      <td>1.47</td>\n",
       "      <td>12.150203</td>\n",
       "      <td>10.898807</td>\n",
       "      <td>10.889203</td>\n",
       "      <td>9.769752</td>\n",
       "      <td>11.065587</td>\n",
       "      <td>10.926918</td>\n",
       "      <td>9.021509</td>\n",
       "      <td>0.000000</td>\n",
       "      <td>conventional</td>\n",
       "      <td>2016.0</td>\n",
       "      <td>7</td>\n",
       "    </tr>\n",
       "    <tr>\n",
       "      <th>1516</th>\n",
       "      <td>18-09-2016</td>\n",
       "      <td>1.43</td>\n",
       "      <td>12.117128</td>\n",
       "      <td>10.671682</td>\n",
       "      <td>10.900333</td>\n",
       "      <td>9.715042</td>\n",
       "      <td>11.143390</td>\n",
       "      <td>10.958796</td>\n",
       "      <td>9.363006</td>\n",
       "      <td>0.000000</td>\n",
       "      <td>conventional</td>\n",
       "      <td>2016.0</td>\n",
       "      <td>7</td>\n",
       "    </tr>\n",
       "  </tbody>\n",
       "</table>\n",
       "<p>1517 rows × 13 columns</p>\n",
       "</div>"
      ],
      "text/plain": [
       "            Date  AveragePrice  Total Volume       4046       4225      4770  \\\n",
       "0     27-12-2015          1.33     11.070344   6.944801  10.905146  3.895080   \n",
       "1     20-12-2015          1.35     10.912867   6.515127  10.706381  4.083115   \n",
       "2     13-12-2015          0.93     11.680313   6.679222  11.600485  4.879007   \n",
       "3     06-12-2015          1.08     11.277116   7.032624  11.184108  4.298373   \n",
       "4     29-11-2015          1.28     10.840377   6.848515  10.688288  4.340944   \n",
       "...          ...           ...           ...        ...        ...       ...   \n",
       "1512  16-10-2016          1.39     12.159227  10.960064  10.939651  9.771828   \n",
       "1513  09-10-2016          1.51     12.090868  10.676528  10.862658  9.874088   \n",
       "1514  02-10-2016          1.48     12.091850  10.744316  10.876052  9.725432   \n",
       "1515  25-09-2016          1.47     12.150203  10.898807  10.889203  9.769752   \n",
       "1516  18-09-2016          1.43     12.117128  10.671682  10.900333  9.715042   \n",
       "\n",
       "      Total Bags  Small Bags  Large Bags  XLarge Bags          type    year  \\\n",
       "0       9.070833    9.060055    4.545951     0.000000  conventional  2015.0   \n",
       "1       9.159737    9.149429    4.589955     0.000000  conventional  2015.0   \n",
       "2       9.005325    8.992584    4.645736     0.000000  conventional  2015.0   \n",
       "3       8.667708    8.644425    4.903495     0.000000  conventional  2015.0   \n",
       "4       8.729874    8.697389    5.291746     0.000000  conventional  2015.0   \n",
       "...          ...         ...         ...          ...           ...     ...   \n",
       "1512   10.992377   10.795988    9.245288     5.485958  conventional  2016.0   \n",
       "1513   11.055667   10.909713    9.059234     0.000000  conventional  2016.0   \n",
       "1514   11.041589   10.884322    9.019078     6.716595  conventional  2016.0   \n",
       "1515   11.065587   10.926918    9.021509     0.000000  conventional  2016.0   \n",
       "1516   11.143390   10.958796    9.363006     0.000000  conventional  2016.0   \n",
       "\n",
       "      region  \n",
       "0          0  \n",
       "1          0  \n",
       "2          0  \n",
       "3          0  \n",
       "4          0  \n",
       "...      ...  \n",
       "1512       7  \n",
       "1513       7  \n",
       "1514       7  \n",
       "1515       7  \n",
       "1516       7  \n",
       "\n",
       "[1517 rows x 13 columns]"
      ]
     },
     "execution_count": 189,
     "metadata": {},
     "output_type": "execute_result"
    }
   ],
   "source": [
    "df['region'] = df2\n",
    "\n",
    "df"
   ]
  },
  {
   "cell_type": "code",
   "execution_count": 190,
   "id": "f37da096",
   "metadata": {},
   "outputs": [
    {
     "data": {
      "text/plain": [
       "0       0\n",
       "1       0\n",
       "2       0\n",
       "3       0\n",
       "4       0\n",
       "       ..\n",
       "1512    0\n",
       "1513    0\n",
       "1514    0\n",
       "1515    0\n",
       "1516    0\n",
       "Length: 1517, dtype: int32"
      ]
     },
     "execution_count": 190,
     "metadata": {},
     "output_type": "execute_result"
    }
   ],
   "source": [
    "df2 = lab_enc.fit_transform(df['type'])\n",
    "\n",
    "pd.Series(df2)"
   ]
  },
  {
   "cell_type": "code",
   "execution_count": 191,
   "id": "d8ed0e42",
   "metadata": {},
   "outputs": [
    {
     "data": {
      "text/html": [
       "<div>\n",
       "<style scoped>\n",
       "    .dataframe tbody tr th:only-of-type {\n",
       "        vertical-align: middle;\n",
       "    }\n",
       "\n",
       "    .dataframe tbody tr th {\n",
       "        vertical-align: top;\n",
       "    }\n",
       "\n",
       "    .dataframe thead th {\n",
       "        text-align: right;\n",
       "    }\n",
       "</style>\n",
       "<table border=\"1\" class=\"dataframe\">\n",
       "  <thead>\n",
       "    <tr style=\"text-align: right;\">\n",
       "      <th></th>\n",
       "      <th>Date</th>\n",
       "      <th>AveragePrice</th>\n",
       "      <th>Total Volume</th>\n",
       "      <th>4046</th>\n",
       "      <th>4225</th>\n",
       "      <th>4770</th>\n",
       "      <th>Total Bags</th>\n",
       "      <th>Small Bags</th>\n",
       "      <th>Large Bags</th>\n",
       "      <th>XLarge Bags</th>\n",
       "      <th>type</th>\n",
       "      <th>year</th>\n",
       "      <th>region</th>\n",
       "    </tr>\n",
       "  </thead>\n",
       "  <tbody>\n",
       "    <tr>\n",
       "      <th>0</th>\n",
       "      <td>27-12-2015</td>\n",
       "      <td>1.33</td>\n",
       "      <td>11.070344</td>\n",
       "      <td>6.944801</td>\n",
       "      <td>10.905146</td>\n",
       "      <td>3.895080</td>\n",
       "      <td>9.070833</td>\n",
       "      <td>9.060055</td>\n",
       "      <td>4.545951</td>\n",
       "      <td>0.000000</td>\n",
       "      <td>0</td>\n",
       "      <td>2015.0</td>\n",
       "      <td>0</td>\n",
       "    </tr>\n",
       "    <tr>\n",
       "      <th>1</th>\n",
       "      <td>20-12-2015</td>\n",
       "      <td>1.35</td>\n",
       "      <td>10.912867</td>\n",
       "      <td>6.515127</td>\n",
       "      <td>10.706381</td>\n",
       "      <td>4.083115</td>\n",
       "      <td>9.159737</td>\n",
       "      <td>9.149429</td>\n",
       "      <td>4.589955</td>\n",
       "      <td>0.000000</td>\n",
       "      <td>0</td>\n",
       "      <td>2015.0</td>\n",
       "      <td>0</td>\n",
       "    </tr>\n",
       "    <tr>\n",
       "      <th>2</th>\n",
       "      <td>13-12-2015</td>\n",
       "      <td>0.93</td>\n",
       "      <td>11.680313</td>\n",
       "      <td>6.679222</td>\n",
       "      <td>11.600485</td>\n",
       "      <td>4.879007</td>\n",
       "      <td>9.005325</td>\n",
       "      <td>8.992584</td>\n",
       "      <td>4.645736</td>\n",
       "      <td>0.000000</td>\n",
       "      <td>0</td>\n",
       "      <td>2015.0</td>\n",
       "      <td>0</td>\n",
       "    </tr>\n",
       "    <tr>\n",
       "      <th>3</th>\n",
       "      <td>06-12-2015</td>\n",
       "      <td>1.08</td>\n",
       "      <td>11.277116</td>\n",
       "      <td>7.032624</td>\n",
       "      <td>11.184108</td>\n",
       "      <td>4.298373</td>\n",
       "      <td>8.667708</td>\n",
       "      <td>8.644425</td>\n",
       "      <td>4.903495</td>\n",
       "      <td>0.000000</td>\n",
       "      <td>0</td>\n",
       "      <td>2015.0</td>\n",
       "      <td>0</td>\n",
       "    </tr>\n",
       "    <tr>\n",
       "      <th>4</th>\n",
       "      <td>29-11-2015</td>\n",
       "      <td>1.28</td>\n",
       "      <td>10.840377</td>\n",
       "      <td>6.848515</td>\n",
       "      <td>10.688288</td>\n",
       "      <td>4.340944</td>\n",
       "      <td>8.729874</td>\n",
       "      <td>8.697389</td>\n",
       "      <td>5.291746</td>\n",
       "      <td>0.000000</td>\n",
       "      <td>0</td>\n",
       "      <td>2015.0</td>\n",
       "      <td>0</td>\n",
       "    </tr>\n",
       "    <tr>\n",
       "      <th>...</th>\n",
       "      <td>...</td>\n",
       "      <td>...</td>\n",
       "      <td>...</td>\n",
       "      <td>...</td>\n",
       "      <td>...</td>\n",
       "      <td>...</td>\n",
       "      <td>...</td>\n",
       "      <td>...</td>\n",
       "      <td>...</td>\n",
       "      <td>...</td>\n",
       "      <td>...</td>\n",
       "      <td>...</td>\n",
       "      <td>...</td>\n",
       "    </tr>\n",
       "    <tr>\n",
       "      <th>1512</th>\n",
       "      <td>16-10-2016</td>\n",
       "      <td>1.39</td>\n",
       "      <td>12.159227</td>\n",
       "      <td>10.960064</td>\n",
       "      <td>10.939651</td>\n",
       "      <td>9.771828</td>\n",
       "      <td>10.992377</td>\n",
       "      <td>10.795988</td>\n",
       "      <td>9.245288</td>\n",
       "      <td>5.485958</td>\n",
       "      <td>0</td>\n",
       "      <td>2016.0</td>\n",
       "      <td>7</td>\n",
       "    </tr>\n",
       "    <tr>\n",
       "      <th>1513</th>\n",
       "      <td>09-10-2016</td>\n",
       "      <td>1.51</td>\n",
       "      <td>12.090868</td>\n",
       "      <td>10.676528</td>\n",
       "      <td>10.862658</td>\n",
       "      <td>9.874088</td>\n",
       "      <td>11.055667</td>\n",
       "      <td>10.909713</td>\n",
       "      <td>9.059234</td>\n",
       "      <td>0.000000</td>\n",
       "      <td>0</td>\n",
       "      <td>2016.0</td>\n",
       "      <td>7</td>\n",
       "    </tr>\n",
       "    <tr>\n",
       "      <th>1514</th>\n",
       "      <td>02-10-2016</td>\n",
       "      <td>1.48</td>\n",
       "      <td>12.091850</td>\n",
       "      <td>10.744316</td>\n",
       "      <td>10.876052</td>\n",
       "      <td>9.725432</td>\n",
       "      <td>11.041589</td>\n",
       "      <td>10.884322</td>\n",
       "      <td>9.019078</td>\n",
       "      <td>6.716595</td>\n",
       "      <td>0</td>\n",
       "      <td>2016.0</td>\n",
       "      <td>7</td>\n",
       "    </tr>\n",
       "    <tr>\n",
       "      <th>1515</th>\n",
       "      <td>25-09-2016</td>\n",
       "      <td>1.47</td>\n",
       "      <td>12.150203</td>\n",
       "      <td>10.898807</td>\n",
       "      <td>10.889203</td>\n",
       "      <td>9.769752</td>\n",
       "      <td>11.065587</td>\n",
       "      <td>10.926918</td>\n",
       "      <td>9.021509</td>\n",
       "      <td>0.000000</td>\n",
       "      <td>0</td>\n",
       "      <td>2016.0</td>\n",
       "      <td>7</td>\n",
       "    </tr>\n",
       "    <tr>\n",
       "      <th>1516</th>\n",
       "      <td>18-09-2016</td>\n",
       "      <td>1.43</td>\n",
       "      <td>12.117128</td>\n",
       "      <td>10.671682</td>\n",
       "      <td>10.900333</td>\n",
       "      <td>9.715042</td>\n",
       "      <td>11.143390</td>\n",
       "      <td>10.958796</td>\n",
       "      <td>9.363006</td>\n",
       "      <td>0.000000</td>\n",
       "      <td>0</td>\n",
       "      <td>2016.0</td>\n",
       "      <td>7</td>\n",
       "    </tr>\n",
       "  </tbody>\n",
       "</table>\n",
       "<p>1517 rows × 13 columns</p>\n",
       "</div>"
      ],
      "text/plain": [
       "            Date  AveragePrice  Total Volume       4046       4225      4770  \\\n",
       "0     27-12-2015          1.33     11.070344   6.944801  10.905146  3.895080   \n",
       "1     20-12-2015          1.35     10.912867   6.515127  10.706381  4.083115   \n",
       "2     13-12-2015          0.93     11.680313   6.679222  11.600485  4.879007   \n",
       "3     06-12-2015          1.08     11.277116   7.032624  11.184108  4.298373   \n",
       "4     29-11-2015          1.28     10.840377   6.848515  10.688288  4.340944   \n",
       "...          ...           ...           ...        ...        ...       ...   \n",
       "1512  16-10-2016          1.39     12.159227  10.960064  10.939651  9.771828   \n",
       "1513  09-10-2016          1.51     12.090868  10.676528  10.862658  9.874088   \n",
       "1514  02-10-2016          1.48     12.091850  10.744316  10.876052  9.725432   \n",
       "1515  25-09-2016          1.47     12.150203  10.898807  10.889203  9.769752   \n",
       "1516  18-09-2016          1.43     12.117128  10.671682  10.900333  9.715042   \n",
       "\n",
       "      Total Bags  Small Bags  Large Bags  XLarge Bags  type    year  region  \n",
       "0       9.070833    9.060055    4.545951     0.000000     0  2015.0       0  \n",
       "1       9.159737    9.149429    4.589955     0.000000     0  2015.0       0  \n",
       "2       9.005325    8.992584    4.645736     0.000000     0  2015.0       0  \n",
       "3       8.667708    8.644425    4.903495     0.000000     0  2015.0       0  \n",
       "4       8.729874    8.697389    5.291746     0.000000     0  2015.0       0  \n",
       "...          ...         ...         ...          ...   ...     ...     ...  \n",
       "1512   10.992377   10.795988    9.245288     5.485958     0  2016.0       7  \n",
       "1513   11.055667   10.909713    9.059234     0.000000     0  2016.0       7  \n",
       "1514   11.041589   10.884322    9.019078     6.716595     0  2016.0       7  \n",
       "1515   11.065587   10.926918    9.021509     0.000000     0  2016.0       7  \n",
       "1516   11.143390   10.958796    9.363006     0.000000     0  2016.0       7  \n",
       "\n",
       "[1517 rows x 13 columns]"
      ]
     },
     "execution_count": 191,
     "metadata": {},
     "output_type": "execute_result"
    }
   ],
   "source": [
    "df['type'] = df2\n",
    "\n",
    "df"
   ]
  },
  {
   "cell_type": "markdown",
   "id": "0bd57b43",
   "metadata": {},
   "source": [
    "#### Droping 'Date' column"
   ]
  },
  {
   "cell_type": "code",
   "execution_count": 192,
   "id": "406d1881",
   "metadata": {},
   "outputs": [],
   "source": [
    "df.drop('Date', inplace= True,axis=1)\n"
   ]
  },
  {
   "cell_type": "code",
   "execution_count": 193,
   "id": "a8e979dc",
   "metadata": {},
   "outputs": [
    {
     "data": {
      "text/plain": [
       "(1517, 12)"
      ]
     },
     "execution_count": 193,
     "metadata": {},
     "output_type": "execute_result"
    }
   ],
   "source": [
    "df.shape"
   ]
  },
  {
   "cell_type": "code",
   "execution_count": 166,
   "id": "48bcc626",
   "metadata": {},
   "outputs": [
    {
     "data": {
      "text/html": [
       "<div>\n",
       "<style scoped>\n",
       "    .dataframe tbody tr th:only-of-type {\n",
       "        vertical-align: middle;\n",
       "    }\n",
       "\n",
       "    .dataframe tbody tr th {\n",
       "        vertical-align: top;\n",
       "    }\n",
       "\n",
       "    .dataframe thead th {\n",
       "        text-align: right;\n",
       "    }\n",
       "</style>\n",
       "<table border=\"1\" class=\"dataframe\">\n",
       "  <thead>\n",
       "    <tr style=\"text-align: right;\">\n",
       "      <th></th>\n",
       "      <th>AveragePrice</th>\n",
       "      <th>Total Volume</th>\n",
       "      <th>4046</th>\n",
       "      <th>4225</th>\n",
       "      <th>4770</th>\n",
       "      <th>Total Bags</th>\n",
       "      <th>Small Bags</th>\n",
       "      <th>Large Bags</th>\n",
       "      <th>XLarge Bags</th>\n",
       "      <th>type</th>\n",
       "      <th>year</th>\n",
       "      <th>region</th>\n",
       "    </tr>\n",
       "  </thead>\n",
       "  <tbody>\n",
       "    <tr>\n",
       "      <th>1</th>\n",
       "      <td>1.35</td>\n",
       "      <td>10.912867</td>\n",
       "      <td>6.515127</td>\n",
       "      <td>10.706381</td>\n",
       "      <td>4.083115</td>\n",
       "      <td>9.159737</td>\n",
       "      <td>9.149429</td>\n",
       "      <td>4.589955</td>\n",
       "      <td>0.0</td>\n",
       "      <td>0</td>\n",
       "      <td>2015.0</td>\n",
       "      <td>0</td>\n",
       "    </tr>\n",
       "    <tr>\n",
       "      <th>2</th>\n",
       "      <td>0.93</td>\n",
       "      <td>11.680313</td>\n",
       "      <td>6.679222</td>\n",
       "      <td>11.600485</td>\n",
       "      <td>4.879007</td>\n",
       "      <td>9.005325</td>\n",
       "      <td>8.992584</td>\n",
       "      <td>4.645736</td>\n",
       "      <td>0.0</td>\n",
       "      <td>0</td>\n",
       "      <td>2015.0</td>\n",
       "      <td>0</td>\n",
       "    </tr>\n",
       "    <tr>\n",
       "      <th>3</th>\n",
       "      <td>1.08</td>\n",
       "      <td>11.277116</td>\n",
       "      <td>7.032624</td>\n",
       "      <td>11.184108</td>\n",
       "      <td>4.298373</td>\n",
       "      <td>8.667708</td>\n",
       "      <td>8.644425</td>\n",
       "      <td>4.903495</td>\n",
       "      <td>0.0</td>\n",
       "      <td>0</td>\n",
       "      <td>2015.0</td>\n",
       "      <td>0</td>\n",
       "    </tr>\n",
       "    <tr>\n",
       "      <th>4</th>\n",
       "      <td>1.28</td>\n",
       "      <td>10.840377</td>\n",
       "      <td>6.848515</td>\n",
       "      <td>10.688288</td>\n",
       "      <td>4.340944</td>\n",
       "      <td>8.729874</td>\n",
       "      <td>8.697389</td>\n",
       "      <td>5.291746</td>\n",
       "      <td>0.0</td>\n",
       "      <td>0</td>\n",
       "      <td>2015.0</td>\n",
       "      <td>0</td>\n",
       "    </tr>\n",
       "    <tr>\n",
       "      <th>5</th>\n",
       "      <td>1.26</td>\n",
       "      <td>10.932764</td>\n",
       "      <td>7.077726</td>\n",
       "      <td>10.780393</td>\n",
       "      <td>3.797958</td>\n",
       "      <td>8.807608</td>\n",
       "      <td>8.788360</td>\n",
       "      <td>4.855462</td>\n",
       "      <td>0.0</td>\n",
       "      <td>0</td>\n",
       "      <td>2015.0</td>\n",
       "      <td>0</td>\n",
       "    </tr>\n",
       "  </tbody>\n",
       "</table>\n",
       "</div>"
      ],
      "text/plain": [
       "   AveragePrice  Total Volume      4046       4225      4770  Total Bags  \\\n",
       "1          1.35     10.912867  6.515127  10.706381  4.083115    9.159737   \n",
       "2          0.93     11.680313  6.679222  11.600485  4.879007    9.005325   \n",
       "3          1.08     11.277116  7.032624  11.184108  4.298373    8.667708   \n",
       "4          1.28     10.840377  6.848515  10.688288  4.340944    8.729874   \n",
       "5          1.26     10.932764  7.077726  10.780393  3.797958    8.807608   \n",
       "\n",
       "   Small Bags  Large Bags  XLarge Bags  type    year  region  \n",
       "1    9.149429    4.589955          0.0     0  2015.0       0  \n",
       "2    8.992584    4.645736          0.0     0  2015.0       0  \n",
       "3    8.644425    4.903495          0.0     0  2015.0       0  \n",
       "4    8.697389    5.291746          0.0     0  2015.0       0  \n",
       "5    8.788360    4.855462          0.0     0  2015.0       0  "
      ]
     },
     "execution_count": 166,
     "metadata": {},
     "output_type": "execute_result"
    }
   ],
   "source": [
    "df.head()"
   ]
  },
  {
   "cell_type": "code",
   "execution_count": 92,
   "id": "b9f1c4d8",
   "metadata": {},
   "outputs": [
    {
     "data": {
      "text/html": [
       "<div>\n",
       "<style scoped>\n",
       "    .dataframe tbody tr th:only-of-type {\n",
       "        vertical-align: middle;\n",
       "    }\n",
       "\n",
       "    .dataframe tbody tr th {\n",
       "        vertical-align: top;\n",
       "    }\n",
       "\n",
       "    .dataframe thead th {\n",
       "        text-align: right;\n",
       "    }\n",
       "</style>\n",
       "<table border=\"1\" class=\"dataframe\">\n",
       "  <thead>\n",
       "    <tr style=\"text-align: right;\">\n",
       "      <th></th>\n",
       "      <th>AveragePrice</th>\n",
       "      <th>Total Volume</th>\n",
       "      <th>4046</th>\n",
       "      <th>4225</th>\n",
       "      <th>4770</th>\n",
       "      <th>Total Bags</th>\n",
       "      <th>Small Bags</th>\n",
       "      <th>Large Bags</th>\n",
       "      <th>XLarge Bags</th>\n",
       "      <th>type</th>\n",
       "      <th>year</th>\n",
       "      <th>region</th>\n",
       "    </tr>\n",
       "  </thead>\n",
       "  <tbody>\n",
       "    <tr>\n",
       "      <th>1512</th>\n",
       "      <td>1.39</td>\n",
       "      <td>12.159227</td>\n",
       "      <td>10.960064</td>\n",
       "      <td>10.939651</td>\n",
       "      <td>9.771828</td>\n",
       "      <td>10.992377</td>\n",
       "      <td>10.795988</td>\n",
       "      <td>9.245288</td>\n",
       "      <td>5.485958</td>\n",
       "      <td>0</td>\n",
       "      <td>2016.0</td>\n",
       "      <td>7</td>\n",
       "    </tr>\n",
       "    <tr>\n",
       "      <th>1513</th>\n",
       "      <td>1.51</td>\n",
       "      <td>12.090868</td>\n",
       "      <td>10.676528</td>\n",
       "      <td>10.862658</td>\n",
       "      <td>9.874088</td>\n",
       "      <td>11.055667</td>\n",
       "      <td>10.909713</td>\n",
       "      <td>9.059234</td>\n",
       "      <td>0.000000</td>\n",
       "      <td>0</td>\n",
       "      <td>2016.0</td>\n",
       "      <td>7</td>\n",
       "    </tr>\n",
       "    <tr>\n",
       "      <th>1514</th>\n",
       "      <td>1.48</td>\n",
       "      <td>12.091850</td>\n",
       "      <td>10.744316</td>\n",
       "      <td>10.876052</td>\n",
       "      <td>9.725432</td>\n",
       "      <td>11.041589</td>\n",
       "      <td>10.884322</td>\n",
       "      <td>9.019078</td>\n",
       "      <td>6.716595</td>\n",
       "      <td>0</td>\n",
       "      <td>2016.0</td>\n",
       "      <td>7</td>\n",
       "    </tr>\n",
       "    <tr>\n",
       "      <th>1515</th>\n",
       "      <td>1.47</td>\n",
       "      <td>12.150203</td>\n",
       "      <td>10.898807</td>\n",
       "      <td>10.889203</td>\n",
       "      <td>9.769752</td>\n",
       "      <td>11.065587</td>\n",
       "      <td>10.926918</td>\n",
       "      <td>9.021509</td>\n",
       "      <td>0.000000</td>\n",
       "      <td>0</td>\n",
       "      <td>2016.0</td>\n",
       "      <td>7</td>\n",
       "    </tr>\n",
       "    <tr>\n",
       "      <th>1516</th>\n",
       "      <td>1.43</td>\n",
       "      <td>12.117128</td>\n",
       "      <td>10.671682</td>\n",
       "      <td>10.900333</td>\n",
       "      <td>9.715042</td>\n",
       "      <td>11.143390</td>\n",
       "      <td>10.958796</td>\n",
       "      <td>9.363006</td>\n",
       "      <td>0.000000</td>\n",
       "      <td>0</td>\n",
       "      <td>2016.0</td>\n",
       "      <td>7</td>\n",
       "    </tr>\n",
       "  </tbody>\n",
       "</table>\n",
       "</div>"
      ],
      "text/plain": [
       "      AveragePrice  Total Volume       4046       4225      4770  Total Bags  \\\n",
       "1512          1.39     12.159227  10.960064  10.939651  9.771828   10.992377   \n",
       "1513          1.51     12.090868  10.676528  10.862658  9.874088   11.055667   \n",
       "1514          1.48     12.091850  10.744316  10.876052  9.725432   11.041589   \n",
       "1515          1.47     12.150203  10.898807  10.889203  9.769752   11.065587   \n",
       "1516          1.43     12.117128  10.671682  10.900333  9.715042   11.143390   \n",
       "\n",
       "      Small Bags  Large Bags  XLarge Bags  type    year  region  \n",
       "1512   10.795988    9.245288     5.485958     0  2016.0       7  \n",
       "1513   10.909713    9.059234     0.000000     0  2016.0       7  \n",
       "1514   10.884322    9.019078     6.716595     0  2016.0       7  \n",
       "1515   10.926918    9.021509     0.000000     0  2016.0       7  \n",
       "1516   10.958796    9.363006     0.000000     0  2016.0       7  "
      ]
     },
     "execution_count": 92,
     "metadata": {},
     "output_type": "execute_result"
    }
   ],
   "source": [
    "df.tail()"
   ]
  },
  {
   "cell_type": "markdown",
   "id": "25c6858d",
   "metadata": {},
   "source": [
    "### First we aregoing to do our prediction 'region' wise"
   ]
  },
  {
   "cell_type": "code",
   "execution_count": 194,
   "id": "61e567d7",
   "metadata": {},
   "outputs": [],
   "source": [
    "### Importing important libraries\n",
    "\n",
    "from sklearn.metrics import accuracy_score, classification_report, confusion_matrix, roc_auc_score, roc_curve\n",
    "from sklearn.linear_model import LogisticRegression\n",
    "from sklearn.neighbors import KNeighborsClassifier\n",
    "from sklearn.svm import SVC\n",
    "from sklearn.tree import DecisionTreeClassifier\n",
    "from sklearn.ensemble import AdaBoostClassifier, GradientBoostingClassifier\n",
    "from sklearn.naive_bayes import MultinomialNB"
   ]
  },
  {
   "cell_type": "markdown",
   "id": "e6404cb0",
   "metadata": {},
   "source": [
    "#### Saperating features and label column"
   ]
  },
  {
   "cell_type": "code",
   "execution_count": 195,
   "id": "ee75815d",
   "metadata": {},
   "outputs": [],
   "source": [
    "x = df.drop(columns=['region'])\n",
    "y = df['region']"
   ]
  },
  {
   "cell_type": "markdown",
   "id": "b48b7fea",
   "metadata": {},
   "source": [
    "#### Standardise the data using StandardScalar"
   ]
  },
  {
   "cell_type": "code",
   "execution_count": 199,
   "id": "6c636cfd",
   "metadata": {},
   "outputs": [],
   "source": [
    "from sklearn.preprocessing import StandardScaler\n",
    "scaler = StandardScaler()\n",
    "\n",
    "x_scaled = scaler.fit_transform(x)\n",
    "\n",
    "X = x_scaled"
   ]
  },
  {
   "cell_type": "code",
   "execution_count": 206,
   "id": "c57f81c7",
   "metadata": {},
   "outputs": [],
   "source": [
    "X_train, X_test, y_train, y_test = train_test_split(X, y, test_size = .3, random_state=225)\n"
   ]
  },
  {
   "cell_type": "markdown",
   "id": "7f41f863",
   "metadata": {},
   "source": [
    "### Support Vector Machines"
   ]
  },
  {
   "cell_type": "code",
   "execution_count": 208,
   "id": "fef875b9",
   "metadata": {},
   "outputs": [
    {
     "name": "stdout",
     "output_type": "stream",
     "text": [
      "\n",
      "==================TRAIN RESULT=================\n",
      "Accuracy Score: 93.12%\n",
      "\n",
      "==================TEST RESULT====================\n",
      "Accuracy Score: 89.91%\n",
      "\n",
      " \n",
      " Test Classification Report \n",
      "               precision    recall  f1-score   support\n",
      "\n",
      "           0       0.90      1.00      0.95        18\n",
      "           1       0.79      1.00      0.88        11\n",
      "           2       0.94      1.00      0.97        16\n",
      "           3       1.00      1.00      1.00        23\n",
      "           4       1.00      0.95      0.97        19\n",
      "           5       1.00      0.85      0.92        13\n",
      "           6       1.00      0.96      0.98        23\n",
      "           7       1.00      0.45      0.62        11\n",
      "           8       0.83      1.00      0.91         5\n",
      "           9       0.91      1.00      0.95        10\n",
      "          10       1.00      0.75      0.86         4\n",
      "          11       1.00      1.00      1.00         4\n",
      "          12       0.94      1.00      0.97        15\n",
      "          13       1.00      1.00      1.00         3\n",
      "          14       1.00      1.00      1.00         6\n",
      "          15       1.00      1.00      1.00         6\n",
      "          16       1.00      0.43      0.60         7\n",
      "          17       0.89      1.00      0.94         8\n",
      "          18       1.00      0.50      0.67         2\n",
      "          19       1.00      1.00      1.00        13\n",
      "          20       0.00      0.00      0.00         4\n",
      "          21       0.00      0.00      0.00         1\n",
      "          22       1.00      1.00      1.00        15\n",
      "          23       0.00      0.00      0.00         2\n",
      "          24       1.00      1.00      1.00         6\n",
      "          25       1.00      0.91      0.95        11\n",
      "          26       1.00      1.00      1.00        13\n",
      "          27       1.00      1.00      1.00         2\n",
      "          28       0.58      1.00      0.74         7\n",
      "          29       0.00      0.00      0.00         6\n",
      "          30       1.00      1.00      1.00         6\n",
      "          31       1.00      0.93      0.96        14\n",
      "          32       0.89      1.00      0.94         8\n",
      "          33       1.00      1.00      1.00         4\n",
      "          34       0.76      0.93      0.84        14\n",
      "          35       0.29      1.00      0.44         2\n",
      "          36       0.69      0.90      0.78        10\n",
      "          37       1.00      0.83      0.91         6\n",
      "          38       0.88      0.94      0.91        16\n",
      "          39       1.00      0.33      0.50         6\n",
      "          40       0.50      0.33      0.40         3\n",
      "          41       1.00      0.89      0.94         9\n",
      "          42       0.88      1.00      0.93        14\n",
      "          43       1.00      1.00      1.00         5\n",
      "          44       0.93      0.93      0.93        15\n",
      "          45       0.83      1.00      0.91         5\n",
      "          46       1.00      1.00      1.00         5\n",
      "          47       0.43      0.67      0.52         9\n",
      "          48       1.00      1.00      1.00         7\n",
      "          49       1.00      1.00      1.00         6\n",
      "          50       0.80      1.00      0.89         8\n",
      "\n",
      "    accuracy                           0.90       456\n",
      "   macro avg       0.84      0.83      0.82       456\n",
      "weighted avg       0.90      0.90      0.89       456\n",
      "\n"
     ]
    }
   ],
   "source": [
    "from sklearn.metrics import confusion_matrix, classification_report, accuracy_score\n",
    "from sklearn.svm import SVC\n",
    "svc = SVC()\n",
    "\n",
    "#SVC Model training and pass printing train and test score\n",
    "svc.fit(X_train,y_train)\n",
    "\n",
    "# call the function and pass dataset to check train and test score\n",
    "print_score(svc,X_train,X_test,y_train,y_test, train = True)  #For training score\n",
    "\n",
    "print_score(svc,X_train,X_test,y_train,y_test, train = False)  #For testing score"
   ]
  },
  {
   "cell_type": "markdown",
   "id": "b4d93ed8",
   "metadata": {},
   "source": [
    "### Gradient Boost Classifier"
   ]
  },
  {
   "cell_type": "code",
   "execution_count": 209,
   "id": "15c98923",
   "metadata": {},
   "outputs": [
    {
     "name": "stdout",
     "output_type": "stream",
     "text": [
      "\n",
      "==================TRAIN RESULT=================\n",
      "Accuracy Score: 100.00%\n",
      "\n",
      "==================TEST RESULT====================\n",
      "Accuracy Score: 89.04%\n",
      "\n",
      " \n",
      " Test Classification Report \n",
      "               precision    recall  f1-score   support\n",
      "\n",
      "           0       0.86      1.00      0.92        18\n",
      "           1       0.55      1.00      0.71        11\n",
      "           2       0.88      0.94      0.91        16\n",
      "           3       0.96      1.00      0.98        23\n",
      "           4       1.00      1.00      1.00        19\n",
      "           5       1.00      0.77      0.87        13\n",
      "           6       1.00      0.96      0.98        23\n",
      "           7       0.92      1.00      0.96        11\n",
      "           8       1.00      1.00      1.00         5\n",
      "           9       0.90      0.90      0.90        10\n",
      "          10       0.67      1.00      0.80         4\n",
      "          11       0.50      0.75      0.60         4\n",
      "          12       1.00      1.00      1.00        15\n",
      "          13       0.75      1.00      0.86         3\n",
      "          14       0.86      1.00      0.92         6\n",
      "          15       1.00      0.83      0.91         6\n",
      "          16       0.80      0.57      0.67         7\n",
      "          17       0.78      0.88      0.82         8\n",
      "          18       1.00      0.50      0.67         2\n",
      "          19       1.00      0.92      0.96        13\n",
      "          20       0.50      0.75      0.60         4\n",
      "          21       0.50      1.00      0.67         1\n",
      "          22       1.00      0.93      0.97        15\n",
      "          23       0.67      1.00      0.80         2\n",
      "          24       1.00      0.83      0.91         6\n",
      "          25       0.91      0.91      0.91        11\n",
      "          26       1.00      1.00      1.00        13\n",
      "          27       1.00      1.00      1.00         2\n",
      "          28       1.00      0.71      0.83         7\n",
      "          29       0.83      0.83      0.83         6\n",
      "          30       1.00      0.50      0.67         6\n",
      "          31       0.82      1.00      0.90        14\n",
      "          32       0.86      0.75      0.80         8\n",
      "          33       1.00      0.50      0.67         4\n",
      "          34       0.75      0.86      0.80        14\n",
      "          35       1.00      1.00      1.00         2\n",
      "          36       0.90      0.90      0.90        10\n",
      "          37       1.00      1.00      1.00         6\n",
      "          38       0.80      1.00      0.89        16\n",
      "          39       1.00      0.17      0.29         6\n",
      "          40       1.00      0.33      0.50         3\n",
      "          41       1.00      0.89      0.94         9\n",
      "          42       1.00      0.86      0.92        14\n",
      "          43       1.00      0.60      0.75         5\n",
      "          44       0.93      0.93      0.93        15\n",
      "          45       1.00      0.80      0.89         5\n",
      "          46       1.00      1.00      1.00         5\n",
      "          47       0.83      0.56      0.67         9\n",
      "          48       1.00      1.00      1.00         7\n",
      "          49       1.00      1.00      1.00         6\n",
      "          50       0.88      0.88      0.88         8\n",
      "\n",
      "    accuracy                           0.89       456\n",
      "   macro avg       0.89      0.85      0.85       456\n",
      "weighted avg       0.91      0.89      0.89       456\n",
      "\n"
     ]
    }
   ],
   "source": [
    "from sklearn.ensemble import RandomForestClassifier, GradientBoostingClassifier\n",
    "\n",
    "\n",
    "gbc = GradientBoostingClassifier()\n",
    "#GradientBoostingClassifier Model training and pass printing train and test score\n",
    "gbc.fit(X_train,y_train)\n",
    "\n",
    "# call the function and pass dataset to check train and test score\n",
    "print_score(gbc,X_train,X_test,y_train,y_test, train = True)  #For training score\n",
    "\n",
    "print_score(gbc,X_train,X_test,y_train,y_test, train = False)  #For testing score"
   ]
  },
  {
   "cell_type": "markdown",
   "id": "69819371",
   "metadata": {},
   "source": [
    "### Random Forest"
   ]
  },
  {
   "cell_type": "code",
   "execution_count": 210,
   "id": "8a30c1d2",
   "metadata": {},
   "outputs": [
    {
     "name": "stdout",
     "output_type": "stream",
     "text": [
      "\n",
      "==================TRAIN RESULT=================\n",
      "Accuracy Score: 100.00%\n",
      "\n",
      "==================TEST RESULT====================\n",
      "Accuracy Score: 97.37%\n",
      "\n",
      " \n",
      " Test Classification Report \n",
      "               precision    recall  f1-score   support\n",
      "\n",
      "           0       0.95      1.00      0.97        18\n",
      "           1       0.85      1.00      0.92        11\n",
      "           2       0.94      1.00      0.97        16\n",
      "           3       1.00      1.00      1.00        23\n",
      "           4       1.00      1.00      1.00        19\n",
      "           5       1.00      0.92      0.96        13\n",
      "           6       1.00      1.00      1.00        23\n",
      "           7       1.00      1.00      1.00        11\n",
      "           8       1.00      1.00      1.00         5\n",
      "           9       1.00      1.00      1.00        10\n",
      "          10       1.00      1.00      1.00         4\n",
      "          11       1.00      1.00      1.00         4\n",
      "          12       1.00      1.00      1.00        15\n",
      "          13       1.00      1.00      1.00         3\n",
      "          14       0.86      1.00      0.92         6\n",
      "          15       1.00      1.00      1.00         6\n",
      "          16       1.00      0.86      0.92         7\n",
      "          17       1.00      0.88      0.93         8\n",
      "          18       0.67      1.00      0.80         2\n",
      "          19       1.00      1.00      1.00        13\n",
      "          20       1.00      0.75      0.86         4\n",
      "          21       1.00      1.00      1.00         1\n",
      "          22       1.00      0.93      0.97        15\n",
      "          23       1.00      1.00      1.00         2\n",
      "          24       1.00      0.83      0.91         6\n",
      "          25       1.00      1.00      1.00        11\n",
      "          26       1.00      1.00      1.00        13\n",
      "          27       1.00      1.00      1.00         2\n",
      "          28       0.88      1.00      0.93         7\n",
      "          29       1.00      1.00      1.00         6\n",
      "          30       1.00      1.00      1.00         6\n",
      "          31       0.82      1.00      0.90        14\n",
      "          32       0.88      0.88      0.88         8\n",
      "          33       1.00      1.00      1.00         4\n",
      "          34       1.00      0.93      0.96        14\n",
      "          35       1.00      1.00      1.00         2\n",
      "          36       1.00      1.00      1.00        10\n",
      "          37       1.00      1.00      1.00         6\n",
      "          38       0.94      0.94      0.94        16\n",
      "          39       1.00      1.00      1.00         6\n",
      "          40       1.00      1.00      1.00         3\n",
      "          41       1.00      1.00      1.00         9\n",
      "          42       1.00      1.00      1.00        14\n",
      "          43       1.00      1.00      1.00         5\n",
      "          44       1.00      1.00      1.00        15\n",
      "          45       1.00      1.00      1.00         5\n",
      "          46       1.00      1.00      1.00         5\n",
      "          47       1.00      0.78      0.88         9\n",
      "          48       1.00      1.00      1.00         7\n",
      "          49       1.00      1.00      1.00         6\n",
      "          50       1.00      0.88      0.93         8\n",
      "\n",
      "    accuracy                           0.97       456\n",
      "   macro avg       0.98      0.97      0.97       456\n",
      "weighted avg       0.98      0.97      0.97       456\n",
      "\n"
     ]
    }
   ],
   "source": [
    "rfc = RandomForestClassifier()\n",
    "#GradientBoostingClassifier Model training and pass printing train and test score\n",
    "rfc.fit(X_train,y_train)\n",
    "\n",
    "# call the function and pass dataset to check train and test score\n",
    "print_score(rfc,X_train,X_test,y_train,y_test, train = True)  #For training score\n",
    "\n",
    "print_score(rfc,X_train,X_test,y_train,y_test, train = False)  #For testing score"
   ]
  },
  {
   "cell_type": "markdown",
   "id": "8cfceea6",
   "metadata": {},
   "source": [
    "### Decision Tree"
   ]
  },
  {
   "cell_type": "code",
   "execution_count": 211,
   "id": "26e386c1",
   "metadata": {},
   "outputs": [
    {
     "name": "stdout",
     "output_type": "stream",
     "text": [
      "\n",
      "==================TRAIN RESULT=================\n",
      "Accuracy Score: 100.00%\n",
      "\n",
      "==================TEST RESULT====================\n",
      "Accuracy Score: 86.84%\n",
      "\n",
      " \n",
      " Test Classification Report \n",
      "               precision    recall  f1-score   support\n",
      "\n",
      "           0       0.86      1.00      0.92        18\n",
      "           1       0.69      0.82      0.75        11\n",
      "           2       1.00      0.94      0.97        16\n",
      "           3       0.92      1.00      0.96        23\n",
      "           4       0.86      1.00      0.93        19\n",
      "           5       1.00      0.92      0.96        13\n",
      "           6       0.95      0.78      0.86        23\n",
      "           7       1.00      1.00      1.00        11\n",
      "           8       1.00      1.00      1.00         5\n",
      "           9       0.73      0.80      0.76        10\n",
      "          10       0.67      1.00      0.80         4\n",
      "          11       1.00      0.75      0.86         4\n",
      "          12       0.88      1.00      0.94        15\n",
      "          13       1.00      1.00      1.00         3\n",
      "          14       0.86      1.00      0.92         6\n",
      "          15       1.00      0.83      0.91         6\n",
      "          16       0.38      0.43      0.40         7\n",
      "          17       0.86      0.75      0.80         8\n",
      "          18       1.00      0.50      0.67         2\n",
      "          19       0.93      1.00      0.96        13\n",
      "          20       1.00      0.75      0.86         4\n",
      "          21       0.50      1.00      0.67         1\n",
      "          22       0.94      1.00      0.97        15\n",
      "          23       1.00      0.50      0.67         2\n",
      "          24       0.67      0.33      0.44         6\n",
      "          25       1.00      1.00      1.00        11\n",
      "          26       1.00      0.92      0.96        13\n",
      "          27       1.00      1.00      1.00         2\n",
      "          28       0.57      0.57      0.57         7\n",
      "          29       0.50      0.67      0.57         6\n",
      "          30       0.83      0.83      0.83         6\n",
      "          31       0.74      1.00      0.85        14\n",
      "          32       0.83      0.62      0.71         8\n",
      "          33       1.00      1.00      1.00         4\n",
      "          34       0.91      0.71      0.80        14\n",
      "          35       0.50      0.50      0.50         2\n",
      "          36       0.88      0.70      0.78        10\n",
      "          37       1.00      0.83      0.91         6\n",
      "          38       0.82      0.88      0.85        16\n",
      "          39       1.00      0.83      0.91         6\n",
      "          40       1.00      0.67      0.80         3\n",
      "          41       0.89      0.89      0.89         9\n",
      "          42       0.75      0.86      0.80        14\n",
      "          43       1.00      1.00      1.00         5\n",
      "          44       1.00      0.93      0.97        15\n",
      "          45       1.00      1.00      1.00         5\n",
      "          46       1.00      0.80      0.89         5\n",
      "          47       1.00      0.67      0.80         9\n",
      "          48       1.00      1.00      1.00         7\n",
      "          49       0.60      1.00      0.75         6\n",
      "          50       1.00      0.62      0.77         8\n",
      "\n",
      "    accuracy                           0.87       456\n",
      "   macro avg       0.87      0.84      0.84       456\n",
      "weighted avg       0.88      0.87      0.87       456\n",
      "\n"
     ]
    }
   ],
   "source": [
    "from sklearn.tree import DecisionTreeClassifier\n",
    "\n",
    "dtc = DecisionTreeClassifier()\n",
    "#GradientBoostingClassifier Model training and pass printing train and test score\n",
    "dtc.fit(X_train,y_train)\n",
    "\n",
    "# call the function and pass dataset to check train and test score\n",
    "print_score(dtc,X_train,X_test,y_train,y_test, train = True)  #For training score\n",
    "\n",
    "print_score(dtc,X_train,X_test,y_train,y_test, train = False)  #For testing score"
   ]
  },
  {
   "cell_type": "markdown",
   "id": "ae46310d",
   "metadata": {},
   "source": [
    "### KNeighborsClassifier"
   ]
  },
  {
   "cell_type": "code",
   "execution_count": 213,
   "id": "392f4664",
   "metadata": {},
   "outputs": [
    {
     "name": "stdout",
     "output_type": "stream",
     "text": [
      "\n",
      "==================TRAIN RESULT=================\n",
      "Accuracy Score: 96.70%\n",
      "\n",
      "==================TEST RESULT====================\n",
      "Accuracy Score: 94.74%\n",
      "\n",
      " \n",
      " Test Classification Report \n",
      "               precision    recall  f1-score   support\n",
      "\n",
      "           0       0.90      1.00      0.95        18\n",
      "           1       0.91      0.91      0.91        11\n",
      "           2       1.00      1.00      1.00        16\n",
      "           3       1.00      1.00      1.00        23\n",
      "           4       1.00      1.00      1.00        19\n",
      "           5       1.00      0.85      0.92        13\n",
      "           6       1.00      1.00      1.00        23\n",
      "           7       1.00      0.91      0.95        11\n",
      "           8       1.00      1.00      1.00         5\n",
      "           9       0.91      1.00      0.95        10\n",
      "          10       0.60      0.75      0.67         4\n",
      "          11       1.00      1.00      1.00         4\n",
      "          12       1.00      1.00      1.00        15\n",
      "          13       1.00      1.00      1.00         3\n",
      "          14       1.00      0.83      0.91         6\n",
      "          15       1.00      1.00      1.00         6\n",
      "          16       1.00      0.57      0.73         7\n",
      "          17       0.89      1.00      0.94         8\n",
      "          18       1.00      0.50      0.67         2\n",
      "          19       1.00      1.00      1.00        13\n",
      "          20       1.00      0.75      0.86         4\n",
      "          21       1.00      1.00      1.00         1\n",
      "          22       1.00      1.00      1.00        15\n",
      "          23       0.67      1.00      0.80         2\n",
      "          24       0.86      1.00      0.92         6\n",
      "          25       1.00      1.00      1.00        11\n",
      "          26       1.00      1.00      1.00        13\n",
      "          27       1.00      1.00      1.00         2\n",
      "          28       0.70      1.00      0.82         7\n",
      "          29       0.57      0.67      0.62         6\n",
      "          30       1.00      1.00      1.00         6\n",
      "          31       1.00      0.93      0.96        14\n",
      "          32       0.89      1.00      0.94         8\n",
      "          33       1.00      1.00      1.00         4\n",
      "          34       0.92      0.86      0.89        14\n",
      "          35       1.00      1.00      1.00         2\n",
      "          36       0.83      1.00      0.91        10\n",
      "          37       1.00      0.83      0.91         6\n",
      "          38       1.00      1.00      1.00        16\n",
      "          39       1.00      1.00      1.00         6\n",
      "          40       1.00      0.67      0.80         3\n",
      "          41       1.00      1.00      1.00         9\n",
      "          42       1.00      0.93      0.96        14\n",
      "          43       1.00      1.00      1.00         5\n",
      "          44       1.00      0.93      0.97        15\n",
      "          45       0.83      1.00      0.91         5\n",
      "          46       1.00      1.00      1.00         5\n",
      "          47       0.71      0.56      0.63         9\n",
      "          48       1.00      1.00      1.00         7\n",
      "          49       0.86      1.00      0.92         6\n",
      "          50       0.89      1.00      0.94         8\n",
      "\n",
      "    accuracy                           0.95       456\n",
      "   macro avg       0.94      0.93      0.93       456\n",
      "weighted avg       0.95      0.95      0.95       456\n",
      "\n"
     ]
    }
   ],
   "source": [
    "from sklearn.neighbors import KNeighborsClassifier\n",
    "from sklearn.svm import SVC\n",
    "\n",
    "knc = KNeighborsClassifier()\n",
    "#GradientBoostingClassifier Model training and pass printing train and test score\n",
    "knc.fit(X_train,y_train)\n",
    "\n",
    "# call the function and pass dataset to check train and test score\n",
    "print_score(knc,X_train,X_test,y_train,y_test, train = True)  #For training score\n",
    "\n",
    "print_score(knc,X_train,X_test,y_train,y_test, train = False)  #For testing score"
   ]
  },
  {
   "cell_type": "markdown",
   "id": "c37f2791",
   "metadata": {},
   "source": [
    "### As now we can see that RandomForest gives the highest Accuracy we can proceed with it"
   ]
  },
  {
   "cell_type": "code",
   "execution_count": 228,
   "id": "0aa7fcee",
   "metadata": {},
   "outputs": [
    {
     "name": "stdout",
     "output_type": "stream",
     "text": [
      "Cross Validation Score:  73.89473684210527\n",
      "Mean score:  73.89473684210527\n",
      "STD score:  0.0\n"
     ]
    }
   ],
   "source": [
    "from sklearn.model_selection import cross_val_score\n",
    "score = cross_val_score(rfc,X,y,cv=76,scoring='accuracy').mean()\n",
    "print('Cross Validation Score: ',score*76)\n",
    "print('Mean score: ',score.mean()*76)\n",
    "print('STD score: ',score.std())"
   ]
  },
  {
   "cell_type": "code",
   "execution_count": null,
   "id": "4a6e369b",
   "metadata": {},
   "outputs": [],
   "source": []
  },
  {
   "cell_type": "code",
   "execution_count": null,
   "id": "87cab1b2",
   "metadata": {},
   "outputs": [],
   "source": []
  },
  {
   "cell_type": "markdown",
   "id": "ef13d9b1",
   "metadata": {},
   "source": [
    "### Now we do the Prediction with Average Price:"
   ]
  },
  {
   "cell_type": "markdown",
   "id": "cd2fb204",
   "metadata": {},
   "source": [
    "### Linear Regression"
   ]
  },
  {
   "cell_type": "code",
   "execution_count": 230,
   "id": "f91d5bef",
   "metadata": {},
   "outputs": [],
   "source": [
    "# Devide data into features and labels\n",
    "\n",
    "y = df['AveragePrice']\n",
    "\n",
    "x = df.drop(columns = ['AveragePrice'] )"
   ]
  },
  {
   "cell_type": "code",
   "execution_count": 231,
   "id": "671f6f1c",
   "metadata": {},
   "outputs": [],
   "source": [
    "x_train,x_test,y_train,y_test = train_test_split(x,y,test_size = 0.25,random_state=384)"
   ]
  },
  {
   "cell_type": "code",
   "execution_count": 232,
   "id": "dad2db1d",
   "metadata": {},
   "outputs": [
    {
     "data": {
      "text/plain": [
       "LinearRegression()"
      ]
     },
     "execution_count": 232,
     "metadata": {},
     "output_type": "execute_result"
    }
   ],
   "source": [
    "from sklearn.linear_model import LinearRegression\n",
    "\n",
    "regression = LinearRegression()\n",
    "\n",
    "regression.fit(x_train, y_train) "
   ]
  },
  {
   "cell_type": "code",
   "execution_count": 233,
   "id": "756d338d",
   "metadata": {},
   "outputs": [],
   "source": [
    "scaler = StandardScaler()\n",
    "x_train = scaler.fit_transform(x_train)\n",
    "x_test = scaler.transform(x_test)"
   ]
  },
  {
   "cell_type": "code",
   "execution_count": 234,
   "id": "a76d1761",
   "metadata": {},
   "outputs": [
    {
     "name": "stdout",
     "output_type": "stream",
     "text": [
      "Training Error :  2.296277705130376\n",
      "Validation Error :  2.2872109590230703\n",
      "\n"
     ]
    }
   ],
   "source": [
    "from sklearn.metrics import mean_absolute_percentage_error as mape\n",
    "    \n",
    "y_pred = regression.predict(x_train)\n",
    "print('Training Error : ', mape(y_train, y_pred))\n",
    "  \n",
    "y_pred = regression.predict(x_test)\n",
    "print('Validation Error : ', mape(y_test, y_pred))\n",
    "print()"
   ]
  },
  {
   "cell_type": "markdown",
   "id": "ffcfb95e",
   "metadata": {},
   "source": [
    "#### Let's check how well model fits the train data/ how could model learned\n"
   ]
  },
  {
   "cell_type": "code",
   "execution_count": 235,
   "id": "25f38b1a",
   "metadata": {},
   "outputs": [
    {
     "data": {
      "text/plain": [
       "-155.68173872471334"
      ]
     },
     "execution_count": 235,
     "metadata": {},
     "output_type": "execute_result"
    }
   ],
   "source": [
    "# Adjusted R2 score\n",
    "\n",
    "regression.score(x_train,y_train)"
   ]
  },
  {
   "cell_type": "code",
   "execution_count": null,
   "id": "d544a9ac",
   "metadata": {},
   "outputs": [],
   "source": []
  },
  {
   "cell_type": "markdown",
   "id": "fc687d97",
   "metadata": {},
   "source": [
    "### Random Forest Regressor"
   ]
  },
  {
   "cell_type": "code",
   "execution_count": 236,
   "id": "c3649bfc",
   "metadata": {},
   "outputs": [],
   "source": [
    "x_train,x_test,y_transformed,y_test = train_test_split(x,y,test_size = 0.25, random_state = 41)"
   ]
  },
  {
   "cell_type": "code",
   "execution_count": 237,
   "id": "c65fe627",
   "metadata": {},
   "outputs": [
    {
     "data": {
      "text/plain": [
       "RandomForestRegressor(max_depth=6)"
      ]
     },
     "execution_count": 237,
     "metadata": {},
     "output_type": "execute_result"
    }
   ],
   "source": [
    "from sklearn.ensemble import RandomForestRegressor\n",
    "from sklearn.datasets import make_regression\n",
    "X, y = make_regression(n_features=6, n_informative=2, random_state=0, shuffle=False)\n",
    "rfr = RandomForestRegressor(max_depth=6)\n",
    "rfr.fit(X, y)"
   ]
  },
  {
   "cell_type": "code",
   "execution_count": 238,
   "id": "18e77ff0",
   "metadata": {},
   "outputs": [
    {
     "name": "stdout",
     "output_type": "stream",
     "text": [
      "Training Error :  0.05674768859413682\n",
      "Validation Error :  0.15883102747586017\n",
      "\n"
     ]
    }
   ],
   "source": [
    "RM = RandomForestRegressor()\n",
    "\n",
    "\n",
    "RM.fit(x_train, y_train) \n",
    "y_pred = RM.predict(x_train)\n",
    "print('Training Error : ', mape(y_train, y_pred))\n",
    "  \n",
    "y_pred = RM.predict(x_test)\n",
    "print('Validation Error : ', mape(y_test, y_pred))\n",
    "print()"
   ]
  },
  {
   "cell_type": "markdown",
   "id": "d2ba6794",
   "metadata": {},
   "source": [
    "#### Let's check how well model fits the train data/ how could model learned"
   ]
  },
  {
   "cell_type": "code",
   "execution_count": 239,
   "id": "e02687b0",
   "metadata": {},
   "outputs": [
    {
     "data": {
      "text/plain": [
       "0.8489419836313875"
      ]
     },
     "execution_count": 239,
     "metadata": {},
     "output_type": "execute_result"
    }
   ],
   "source": [
    "# Adjusted R2 score\n",
    "\n",
    "RM.score(x_train,y_train)"
   ]
  },
  {
   "cell_type": "markdown",
   "id": "5c430c04",
   "metadata": {},
   "source": [
    "### Lasso"
   ]
  },
  {
   "cell_type": "code",
   "execution_count": 240,
   "id": "c40c0354",
   "metadata": {},
   "outputs": [],
   "source": [
    "from sklearn.linear_model import Lasso, Ridge"
   ]
  },
  {
   "cell_type": "code",
   "execution_count": 241,
   "id": "0e79b8fb",
   "metadata": {},
   "outputs": [
    {
     "data": {
      "text/plain": [
       "Lasso()"
      ]
     },
     "execution_count": 241,
     "metadata": {},
     "output_type": "execute_result"
    }
   ],
   "source": [
    "l = Lasso()\n",
    "l.fit(x_train, y_train) \n"
   ]
  },
  {
   "cell_type": "code",
   "execution_count": 242,
   "id": "bb2bb634",
   "metadata": {},
   "outputs": [
    {
     "name": "stdout",
     "output_type": "stream",
     "text": [
      "Training Error :  0.14527670791258376\n",
      "Validation Error :  0.14002160050246606\n",
      "\n"
     ]
    }
   ],
   "source": [
    "l.fit(x_train, y_train) \n",
    "y_pred = l.predict(x_train)\n",
    "print('Training Error : ', mape(y_train, y_pred))\n",
    "  \n",
    "y_pred = l.predict(x_test)\n",
    "print('Validation Error : ', mape(y_test, y_pred))\n",
    "print()"
   ]
  },
  {
   "cell_type": "markdown",
   "id": "8098965d",
   "metadata": {},
   "source": [
    "#### Let's check how well model fits the train data/ how could model learned\n"
   ]
  },
  {
   "cell_type": "code",
   "execution_count": 243,
   "id": "5984ad40",
   "metadata": {},
   "outputs": [
    {
     "data": {
      "text/plain": [
       "0.0"
      ]
     },
     "execution_count": 243,
     "metadata": {},
     "output_type": "execute_result"
    }
   ],
   "source": [
    "# Adjusted R2 score\n",
    "\n",
    "l.score(x_train,y_train)"
   ]
  },
  {
   "cell_type": "markdown",
   "id": "dd0e96aa",
   "metadata": {},
   "source": [
    "### Ridge"
   ]
  },
  {
   "cell_type": "code",
   "execution_count": 244,
   "id": "270346de",
   "metadata": {},
   "outputs": [
    {
     "data": {
      "text/plain": [
       "Ridge()"
      ]
     },
     "execution_count": 244,
     "metadata": {},
     "output_type": "execute_result"
    }
   ],
   "source": [
    "r = Ridge()\n",
    "r.fit(x_train, y_train) "
   ]
  },
  {
   "cell_type": "code",
   "execution_count": 245,
   "id": "95f15a1d",
   "metadata": {},
   "outputs": [
    {
     "name": "stdout",
     "output_type": "stream",
     "text": [
      "Training Error :  0.14487772847803973\n",
      "Validation Error :  0.14286394927422832\n",
      "\n"
     ]
    }
   ],
   "source": [
    "r.fit(x_train, y_train) \n",
    "y_pred = r.predict(x_train)\n",
    "print('Training Error : ', mape(y_train, y_pred))\n",
    "  \n",
    "y_pred = r.predict(x_test)\n",
    "print('Validation Error : ', mape(y_test, y_pred))\n",
    "print()"
   ]
  },
  {
   "cell_type": "markdown",
   "id": "e03f9fc0",
   "metadata": {},
   "source": [
    "#### Let's check how well model fits the train data/ how could model learned¶"
   ]
  },
  {
   "cell_type": "code",
   "execution_count": 246,
   "id": "407acb40",
   "metadata": {},
   "outputs": [
    {
     "data": {
      "text/plain": [
       "0.005140204727817843"
      ]
     },
     "execution_count": 246,
     "metadata": {},
     "output_type": "execute_result"
    }
   ],
   "source": [
    "# Adjusted R2 score\n",
    "\n",
    "r.score(x_train,y_train)"
   ]
  },
  {
   "cell_type": "markdown",
   "id": "d23ae6dc",
   "metadata": {},
   "source": [
    "### AdaBoost"
   ]
  },
  {
   "cell_type": "code",
   "execution_count": 247,
   "id": "cda4608d",
   "metadata": {},
   "outputs": [],
   "source": [
    "from sklearn.ensemble import AdaBoostRegressor"
   ]
  },
  {
   "cell_type": "code",
   "execution_count": 248,
   "id": "b6190e1b",
   "metadata": {},
   "outputs": [
    {
     "data": {
      "text/plain": [
       "AdaBoostRegressor()"
      ]
     },
     "execution_count": 248,
     "metadata": {},
     "output_type": "execute_result"
    }
   ],
   "source": [
    "ADB = AdaBoostRegressor()\n",
    "ADB.fit(x_train, y_train) "
   ]
  },
  {
   "cell_type": "code",
   "execution_count": 249,
   "id": "ff2171ab",
   "metadata": {},
   "outputs": [
    {
     "name": "stdout",
     "output_type": "stream",
     "text": [
      "Training Error :  0.14281968702557465\n",
      "Validation Error :  0.1442735504108663\n",
      "\n"
     ]
    }
   ],
   "source": [
    "ADB.fit(x_train, y_train) \n",
    "y_pred = ADB.predict(x_train)\n",
    "print('Training Error : ', mape(y_train, y_pred))\n",
    "  \n",
    "y_pred = ADB.predict(x_test)\n",
    "print('Validation Error : ', mape(y_test, y_pred))\n",
    "print()"
   ]
  },
  {
   "cell_type": "markdown",
   "id": "6559f341",
   "metadata": {},
   "source": [
    "#### Let's check how well model fits the train data/ how could model learned"
   ]
  },
  {
   "cell_type": "code",
   "execution_count": 250,
   "id": "c9752ccb",
   "metadata": {},
   "outputs": [
    {
     "data": {
      "text/plain": [
       "0.005140204727817843"
      ]
     },
     "execution_count": 250,
     "metadata": {},
     "output_type": "execute_result"
    }
   ],
   "source": [
    "# Adjusted R2 score\n",
    "\n",
    "r.score(x_train,y_train)"
   ]
  },
  {
   "cell_type": "markdown",
   "id": "417f7529",
   "metadata": {},
   "source": [
    "### Conclusion:\n",
    "\n",
    "As the RandomForest gives the least training error we can select it as a final model"
   ]
  },
  {
   "cell_type": "markdown",
   "id": "655aa7f6",
   "metadata": {},
   "source": [
    "#### Predict the AveragePrice from given features using RandomForestRegression"
   ]
  },
  {
   "cell_type": "code",
   "execution_count": 251,
   "id": "29889f45",
   "metadata": {},
   "outputs": [
    {
     "data": {
      "text/html": [
       "<div>\n",
       "<style scoped>\n",
       "    .dataframe tbody tr th:only-of-type {\n",
       "        vertical-align: middle;\n",
       "    }\n",
       "\n",
       "    .dataframe tbody tr th {\n",
       "        vertical-align: top;\n",
       "    }\n",
       "\n",
       "    .dataframe thead th {\n",
       "        text-align: right;\n",
       "    }\n",
       "</style>\n",
       "<table border=\"1\" class=\"dataframe\">\n",
       "  <thead>\n",
       "    <tr style=\"text-align: right;\">\n",
       "      <th></th>\n",
       "      <th>AveragePrice</th>\n",
       "      <th>Total Volume</th>\n",
       "      <th>4046</th>\n",
       "      <th>4225</th>\n",
       "      <th>4770</th>\n",
       "      <th>Total Bags</th>\n",
       "      <th>Small Bags</th>\n",
       "      <th>Large Bags</th>\n",
       "      <th>XLarge Bags</th>\n",
       "      <th>type</th>\n",
       "      <th>year</th>\n",
       "      <th>region</th>\n",
       "    </tr>\n",
       "  </thead>\n",
       "  <tbody>\n",
       "    <tr>\n",
       "      <th>1515</th>\n",
       "      <td>1.47</td>\n",
       "      <td>12.150203</td>\n",
       "      <td>10.898807</td>\n",
       "      <td>10.889203</td>\n",
       "      <td>9.769752</td>\n",
       "      <td>11.065587</td>\n",
       "      <td>10.926918</td>\n",
       "      <td>9.021509</td>\n",
       "      <td>0.0</td>\n",
       "      <td>0</td>\n",
       "      <td>2016.0</td>\n",
       "      <td>7</td>\n",
       "    </tr>\n",
       "    <tr>\n",
       "      <th>1516</th>\n",
       "      <td>1.43</td>\n",
       "      <td>12.117128</td>\n",
       "      <td>10.671682</td>\n",
       "      <td>10.900333</td>\n",
       "      <td>9.715042</td>\n",
       "      <td>11.143390</td>\n",
       "      <td>10.958796</td>\n",
       "      <td>9.363006</td>\n",
       "      <td>0.0</td>\n",
       "      <td>0</td>\n",
       "      <td>2016.0</td>\n",
       "      <td>7</td>\n",
       "    </tr>\n",
       "  </tbody>\n",
       "</table>\n",
       "</div>"
      ],
      "text/plain": [
       "      AveragePrice  Total Volume       4046       4225      4770  Total Bags  \\\n",
       "1515          1.47     12.150203  10.898807  10.889203  9.769752   11.065587   \n",
       "1516          1.43     12.117128  10.671682  10.900333  9.715042   11.143390   \n",
       "\n",
       "      Small Bags  Large Bags  XLarge Bags  type    year  region  \n",
       "1515   10.926918    9.021509          0.0     0  2016.0       7  \n",
       "1516   10.958796    9.363006          0.0     0  2016.0       7  "
      ]
     },
     "execution_count": 251,
     "metadata": {},
     "output_type": "execute_result"
    }
   ],
   "source": [
    "df.tail(2)"
   ]
  },
  {
   "cell_type": "code",
   "execution_count": 253,
   "id": "d35143aa",
   "metadata": {},
   "outputs": [
    {
     "name": "stdout",
     "output_type": "stream",
     "text": [
      "Predicted Average Price using RandomForestRegressor is :  [1.0601]\n"
     ]
    }
   ],
   "source": [
    "print('Predicted Average Price using RandomForestRegressor is : ',RM.predict(scaler.transform([[12.150203, 10.898807, 10.889203, 9.769752, 11.065587, 10.926918,9.021509,0.0,0,2016.0,7]])))"
   ]
  },
  {
   "cell_type": "markdown",
   "id": "e0dd4bb8",
   "metadata": {},
   "source": [
    "### Let's plot and visualize"
   ]
  },
  {
   "cell_type": "code",
   "execution_count": 265,
   "id": "4f09f002",
   "metadata": {},
   "outputs": [
    {
     "data": {
      "text/plain": [
       "array([1.10691361, 1.13384153, 1.05742212, 1.02753135, 1.00219317,\n",
       "       1.09001508, 1.02462592, 1.17356831, 0.98542888, 0.99513123,\n",
       "       0.95645533, 1.12853017, 1.19136742, 1.20302563, 1.12955721,\n",
       "       0.91542672, 0.90716286, 1.18354124, 0.92029872, 1.04525169,\n",
       "       1.05250025, 1.13075972, 1.04561219, 1.15638172, 1.03007955,\n",
       "       1.04936957, 1.13849578, 0.84191684, 1.07479943, 1.21403693,\n",
       "       1.00961099, 1.28387289, 1.10002484, 1.16300992, 1.09008523,\n",
       "       1.05409468, 1.07712489, 1.15860432, 0.8808162 , 1.11137672,\n",
       "       1.10942428, 1.24717981, 0.97114523, 0.84181319, 0.92906872,\n",
       "       1.05586763, 1.13262016, 1.06419987, 1.10860199, 1.10605847,\n",
       "       0.94344292, 1.05580014, 1.32304163, 1.0141283 , 0.92861907,\n",
       "       1.05874522, 1.02225131, 0.92394583, 1.20991034, 1.17316934,\n",
       "       1.04339755, 0.95464887, 1.06644641, 0.92922237, 0.8965615 ,\n",
       "       0.95166566, 1.12524957, 0.90194738, 1.09498471, 1.06476726,\n",
       "       1.0754885 , 0.8795688 , 0.87982642, 1.09457156, 1.0909584 ,\n",
       "       1.09337116, 1.20382188, 0.89059314, 1.07562056, 0.9292397 ,\n",
       "       1.11839661, 1.07772483, 0.80193482, 0.95094815, 1.01720231,\n",
       "       1.16974335, 1.0621834 , 1.00857722, 1.23535879, 1.31791715,\n",
       "       0.93469229, 1.14887948, 1.02765523, 1.03797226, 1.16691244,\n",
       "       1.00596789, 1.21301264, 1.05327235, 1.13709835, 1.13061193,\n",
       "       0.97926634, 1.29557204, 0.92183532, 1.08555008, 1.13075295,\n",
       "       1.09163909, 1.16431765, 1.20753224, 1.19151458, 1.04847161,\n",
       "       1.00783497, 1.18293542, 1.06153219, 1.16059199, 0.97757194,\n",
       "       1.02991468, 0.97208056, 1.18675531, 0.94836676, 1.00662269,\n",
       "       1.21420342, 1.03699032, 1.27132619, 1.04292584, 1.0504132 ,\n",
       "       0.90149692, 1.02137286, 0.82383939, 1.22856922, 0.966873  ,\n",
       "       0.92928732, 1.18459317, 1.03040014, 1.01768101, 1.25053886,\n",
       "       1.10181781, 1.03768612, 1.181893  , 1.08667312, 1.05698793,\n",
       "       1.22047918, 0.93162204, 1.19819167, 1.2803512 , 1.04432927,\n",
       "       1.077941  , 1.11104843, 1.01965106, 1.23330863, 1.02427167,\n",
       "       1.1089121 , 0.92289552, 1.14388975, 1.26560344, 1.29474459,\n",
       "       0.94597852, 0.92320983, 1.14899604, 0.9875429 , 1.31963373,\n",
       "       0.997464  , 1.01584668, 0.98236957, 1.07621675, 1.04612209,\n",
       "       1.28155825, 1.05868829, 1.02517547, 0.96975555, 1.08395089,\n",
       "       1.15906575, 1.06460416, 0.90549   , 1.29402364, 1.06631571,\n",
       "       1.13274034, 1.1523297 , 1.23598862, 0.86444808, 0.96616651,\n",
       "       0.98330227, 1.1600731 , 1.18560614, 0.92873474, 0.8999793 ,\n",
       "       1.06592209, 0.9769891 , 1.06582625, 1.12686364, 1.16095871,\n",
       "       1.17779567, 1.0776496 , 1.03017906, 1.01456746, 1.08120807,\n",
       "       1.06780614, 1.2224372 , 1.16289514, 1.17642064, 1.23543468,\n",
       "       1.15494355, 0.86481693, 1.15704462, 1.15031977, 1.14767602,\n",
       "       1.07970179, 1.10166252, 0.88527437, 0.94632349, 0.99934366,\n",
       "       1.08687366, 0.7484396 , 1.17446749, 0.90209335, 1.19391702,\n",
       "       1.12459174, 0.93539511, 1.0554737 , 1.28282622, 0.90535994,\n",
       "       0.94838455, 1.06589124, 1.02119552, 0.98754088, 1.18416646,\n",
       "       0.90598133, 1.02686778, 1.07821797, 0.97013047, 1.08874248,\n",
       "       1.12132651, 0.90497561, 1.02462675, 1.09153049, 0.91829393,\n",
       "       1.01275267, 0.95956219, 1.128993  , 1.08705591, 1.09029515,\n",
       "       1.18712833, 0.97464458, 1.15142261, 0.99082804, 1.12483147,\n",
       "       0.8328932 , 1.27771405, 1.17842851, 1.01326803, 1.29218413,\n",
       "       1.2768296 , 0.87981362, 0.91853956, 1.24156101, 1.15408529,\n",
       "       1.01419799, 0.93431892, 1.23576207, 0.91407097, 1.28996621,\n",
       "       0.92554352, 1.16344148, 1.11527467, 0.95634719, 0.90103333,\n",
       "       0.83545038, 1.03502326, 1.17209634, 1.13484191, 1.24388997,\n",
       "       1.02920294, 0.91567231, 0.96673227, 0.89595135, 0.90951594,\n",
       "       1.05860055, 0.96798481, 0.93915939, 1.06304251, 0.92552946,\n",
       "       1.11238436, 1.19156413, 1.04654345, 0.99197806, 0.96714945,\n",
       "       0.82907516, 0.8980506 , 1.15741557, 1.04122757, 1.12294948,\n",
       "       1.07786179, 0.99981178, 1.13264296, 1.10622012, 0.8882591 ,\n",
       "       0.89516285, 1.15525913, 1.14432062, 1.06052894, 1.21919202,\n",
       "       1.23623239, 1.12878199, 1.03092349, 0.9585811 , 0.94135307,\n",
       "       1.15753362, 1.02036937, 1.12719218, 0.96173643, 1.00218329,\n",
       "       1.11766357, 1.07750025, 1.26410758, 1.16027882, 1.10118439,\n",
       "       0.94460466, 0.97265942, 1.00861505, 0.94848936, 0.97834518,\n",
       "       1.07964968, 1.15148092, 1.04980307, 0.9239666 , 1.08087335,\n",
       "       0.97781452, 0.92779383, 1.32416223, 0.97217235, 0.9825963 ,\n",
       "       1.14747489, 0.93862994, 1.06128855, 1.07028844, 0.95286173,\n",
       "       1.15754049, 0.88362298, 1.139393  , 1.10657544, 1.03298098,\n",
       "       1.041323  , 1.14130862, 1.04226467, 1.065167  , 1.04968889,\n",
       "       1.07369207, 1.13495186, 1.20816471, 0.96232149, 0.97503346,\n",
       "       1.28884707, 1.12313176, 1.32685307, 0.93244255, 1.18945978,\n",
       "       1.18632295, 1.15717768, 1.07623841, 0.94120237, 1.11771383,\n",
       "       1.18570961, 1.15130854, 1.21816059, 1.23041644, 1.15125569,\n",
       "       1.02563839, 1.07600654, 0.94127528, 0.98007906, 1.15203875,\n",
       "       1.14115116, 1.09883   , 0.9599848 , 1.17337681, 0.96376248,\n",
       "       0.92685215, 1.33221308, 1.2047907 , 0.77653832, 1.16657566])"
      ]
     },
     "execution_count": 265,
     "metadata": {},
     "output_type": "execute_result"
    }
   ],
   "source": [
    "y_pred = RM.predict(x_test)\n",
    "\n",
    "y_pred"
   ]
  },
  {
   "cell_type": "code",
   "execution_count": 266,
   "id": "e5dccf44",
   "metadata": {},
   "outputs": [
    {
     "data": {
      "image/png": "[encoded data removed]",
      "text/plain": [
       "<Figure size 432x288 with 1 Axes>"
      ]
     },
     "metadata": {
      "needs_background": "light"
     },
     "output_type": "display_data"
    }
   ],
   "source": [
    "plt.scatter(y_test,y_pred)\n",
    "plt.xlabel('Actual AveragePrice')\n",
    "plt.ylabel('Predicted AveragePrice')\n",
    "plt.title('Actual VS Model Predicted')\n",
    "plt.show()"
   ]
  },
  {
   "cell_type": "code",
   "execution_count": null,
   "id": "1c38f19b",
   "metadata": {},
   "outputs": [],
   "source": []
  },
  {
   "cell_type": "markdown",
   "id": "9d62720d",
   "metadata": {},
   "source": [
    "### Final Conclusion:\n",
    "\n",
    ". For the prediction of 'region' as in this case it is a classification problem we concludethe finalmodel as RandomForestClassifier\n",
    "\n",
    ". For the prediction of 'AveragePrice' as in this case it is a regression problem we conclude the RandomForestRegressor as a final model\n",
    "\n",
    ". I predict the 'AveragePrice' and keeping visualize the regression graph using multiple models and finally select the best modelfor the prediction of 'AveragePrice'"
   ]
  },
  {
   "cell_type": "code",
   "execution_count": null,
   "id": "ef89a801",
   "metadata": {},
   "outputs": [],
   "source": []
  }
 ],
 "metadata": {
  "kernelspec": {
   "display_name": "Python 3 (ipykernel)",
   "language": "python",
   "name": "python3"
  },
  "language_info": {
   "codemirror_mode": {
    "name": "ipython",
    "version": 3
   },
   "file_extension": ".py",
   "mimetype": "text/x-python",
   "name": "python",
   "nbconvert_exporter": "python",
   "pygments_lexer": "ipython3",
   "version": "3.9.12"
  }
 },
 "nbformat": 4,
 "nbformat_minor": 5
}
